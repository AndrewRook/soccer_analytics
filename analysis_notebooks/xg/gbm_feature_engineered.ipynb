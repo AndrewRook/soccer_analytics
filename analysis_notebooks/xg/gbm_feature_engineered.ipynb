{
 "cells": [
  {
   "cell_type": "code",
   "execution_count": 1,
   "id": "530de91d",
   "metadata": {},
   "outputs": [],
   "source": [
    "import pandas as pd\n",
    "import dill\n",
    "import warnings\n",
    "\n",
    "from sklearn.metrics import mean_absolute_error, mean_squared_error, roc_auc_score\n",
    "from sklearn.model_selection import train_test_split, GridSearchCV\n",
    "from sklearn.pipeline import Pipeline\n",
    "from sklearn.preprocessing import StandardScaler\n",
    "from feature_engine.encoding import OneHotEncoder\n",
    "from feature_engine.selection import DropConstantFeatures, DropFeatures\n",
    "from feature_engine.wrappers import SklearnTransformerWrapper\n",
    "from xgboost import XGBClassifier\n",
    "\n",
    "from soccer_analytics.data.statsbomb import get_metadata, get_events, load_competition_seasons\n",
    "from soccer_analytics.data_split import split_by_time\n",
    "from soccer_analytics.preprocessing import match_list_to_df, AngleNormalizer"
   ]
  },
  {
   "cell_type": "code",
   "execution_count": 2,
   "id": "871edaef",
   "metadata": {},
   "outputs": [],
   "source": [
    "competitions = get_metadata()"
   ]
  },
  {
   "cell_type": "code",
   "execution_count": 3,
   "id": "1d033fb3",
   "metadata": {},
   "outputs": [],
   "source": [
    "full_competitions = {\n",
    "#     \"1. Bundesliga\": [\"2015/2016\"],\n",
    "#     \"FA Women's Super League\": [\"2018/2019\", \"2019/2020\", \"2020/2021\"],\n",
    "    \"FIFA World Cup\": [\"2022\"], #[\"2018\", \"2022\"],\n",
    "#     \"Indian Super league\": [\"2021/2022\"],\n",
    "#     \"La Liga\": [\"2015/2016\"],\n",
    "#     \"Ligue 1\": [\"2015/2016\"],\n",
    "#     \"Premier League\": [\"2015/2016\"],\n",
    "#     \"Serie A\": [\"2015/2016\"],\n",
    "#     \"UEFA Euro\": [\"2020\"],\n",
    "#    \"UEFA Women's Euro\": [\"2022\"],\n",
    "#     \"Women's World Cup\": [\"2019\", \"2023\"]\n",
    "}"
   ]
  },
  {
   "cell_type": "code",
   "execution_count": 4,
   "id": "661105c4",
   "metadata": {},
   "outputs": [
    {
     "name": "stdout",
     "output_type": "stream",
     "text": [
      "FIFA World Cup 1\n"
     ]
    }
   ],
   "source": [
    "matches_by_competition = {}\n",
    "for competition_name, seasons in full_competitions.items():\n",
    "    print(competition_name, len(seasons))\n",
    "    matches_by_competition[competition_name] = load_competition_seasons(\n",
    "        competition_name, seasons, event_types=[\"shot\"]\n",
    "    )"
   ]
  },
  {
   "cell_type": "code",
   "execution_count": 5,
   "id": "cf6e8c8c",
   "metadata": {},
   "outputs": [],
   "source": [
    "from sklearn.base import BaseEstimator, TransformerMixin\n",
    "class ConsolidateBodyParts(BaseEstimator, TransformerMixin):\n",
    "    def __init__(self, body_parts_to_keep=[\"is_body_part_right_foot\", \"is_body_part_left_foot\", \"is_body_part_head\"]):\n",
    "        self.body_parts_to_keep = body_parts_to_keep\n",
    "    \n",
    "    def fit(self, X, y=None):\n",
    "        return self\n",
    "    \n",
    "    def transform(self, X, y=None):\n",
    "        assert \"is_body_part_other\" in X.columns\n",
    "        body_parts_to_drop = []\n",
    "        for column in X.columns:\n",
    "            if (\n",
    "                column.startswith(\"is_body_part\") and \n",
    "                column not in self.body_parts_to_keep and \n",
    "                column != \"is_body_part_other\"\n",
    "            ):\n",
    "                X[\"is_body_part_other\"] = X[\"is_body_part_other\"] | X[column]\n",
    "                body_parts_to_drop.append(column)\n",
    "                \n",
    "        X = X.drop(body_parts_to_drop, axis=1)\n",
    "        return X\n",
    "    \n",
    "class ConsolidateCategories(BaseEstimator, TransformerMixin):\n",
    "    def __init__(self, column_name, categories_to_keep, other_category_name=\"other\"):\n",
    "        self.column_name = column_name\n",
    "        self.categories_to_keep = categories_to_keep\n",
    "        self.other_category_name = other_category_name\n",
    "        \n",
    "    def fit(self, X, y=None):\n",
    "        return self\n",
    "    \n",
    "    def transform(self, X, y=None):\n",
    "        other_records = (X[self.column_name].isin(self.categories_to_keep) == False)\n",
    "        X.loc[other_records, self.column_name] = self.other_category_name\n",
    "        return X\n",
    "    \n",
    "class ConsolidatePositions(BaseEstimator, TransformerMixin):\n",
    "    \"\"\"\n",
    "    Based on Appendix 1: Tactical Positions Guide of the Statsbomb Open Data Specification.\n",
    "    \"\"\"\n",
    "    def __init__(self, column_name=\"position\", other=\"Unknown\"):\n",
    "        self.column_name = column_name\n",
    "        self.other = other\n",
    "        \n",
    "    def fit(self, X, y=None):\n",
    "        return self\n",
    "    \n",
    "    def transform(self, X, y=None):\n",
    "        is_defense = (X[self.column_name].str.endswith(\"Back\")) | (X[self.column_name] == \"Goalkeeper\")\n",
    "        is_defensive_midfield = X[self.column_name].str.endswith(\"Defensive Midfield\")\n",
    "        is_central_midfield = (\n",
    "            X[self.column_name].str.endswith(\"Center Midfield\") | \n",
    "            X[self.column_name].isin([\"Right Midfield\", \"Left Midfield\"])\n",
    "        )\n",
    "        is_attacking_midfield = X[self.column_name].str.endswith(\"Attacking Midfield\")\n",
    "        is_forward = (\n",
    "            X[self.column_name].str.endswith(\"Wing\") |\n",
    "            X[self.column_name].str.endswith(\"Striker\") |\n",
    "            X[self.column_name].str.endswith(\"Forward\")\n",
    "        )\n",
    "        is_unknown = X[self.column_name] == self.other\n",
    "        found_positions = (\n",
    "            is_defense | \n",
    "            is_defensive_midfield | is_central_midfield | is_attacking_midfield | \n",
    "            is_forward | \n",
    "            is_unknown\n",
    "        )\n",
    "        unknown_positions = X.loc[found_positions == False, self.column_name]\n",
    "        if len(unknown_positions) > 0:\n",
    "            print(\"Unknown positions:\")\n",
    "            print(unknown_positions)\n",
    "        X.loc[is_defense, self.column_name] = \"Defense\"\n",
    "        X.loc[is_defensive_midfield, self.column_name] = \"Defensive Midfield\"\n",
    "        X.loc[is_central_midfield, self.column_name] = \"Central Midfield\"\n",
    "        X.loc[is_attacking_midfield, self.column_name] = \"Attacking Midfield\"\n",
    "        X.loc[is_forward, self.column_name] = \"Forward\"\n",
    "        return X"
   ]
  },
  {
   "cell_type": "code",
   "execution_count": 6,
   "id": "0046639f",
   "metadata": {},
   "outputs": [
    {
     "name": "stdout",
     "output_type": "stream",
     "text": [
      "FIFA World Cup\n"
     ]
    }
   ],
   "source": [
    "loss_info = []\n",
    "model_info = {}\n",
    "train_data = {}\n",
    "test_data = {}\n",
    "for competition_name, matches in matches_by_competition.items():\n",
    "    print(competition_name)\n",
    "    train_test_matches, _ = split_by_time(matches, test_frac=0.2)\n",
    "    train_matches, test_matches = train_test_split(\n",
    "        train_test_matches, test_size=0.2, random_state=235\n",
    "    )\n",
    "    train_df = match_list_to_df(train_matches)\n",
    "    test_df = match_list_to_df(test_matches)\n",
    "    train_data[competition_name] = train_df.copy()\n",
    "    test_data[competition_name] = test_df.copy()\n",
    "    data_prep_pipeline = Pipeline((\n",
    "        (\"consolidate_techniques\", ConsolidateCategories(\"technique\", [\"Normal\", \"Half Volley\", \"Volley\"])),\n",
    "        (\"consolidate_positions\", ConsolidatePositions()),\n",
    "        (\"encode_categories\", OneHotEncoder(variables=[\"technique\", \"position\"], drop_last=False)),\n",
    "        (\"consolidate_body_parts\", ConsolidateBodyParts()),\n",
    "        (\"drop_unused_columns\", DropFeatures([\n",
    "            \"statsbomb_xg\", \"coordinates_x\", \"coordinates_y\", \"is_goal\", \"is_blocked\", \"timestamp\", \"freeze_frame\",\n",
    "            \"closest_defender_distance\", \n",
    "            #\"num_blockers\",\n",
    "        ])),\n",
    "        (\"drop_constant_columns\", DropConstantFeatures()),\n",
    "        (\"create_angle_from_goal\", AngleNormalizer(variable=\"angle_to_goal\", new_variable=\"angle_from_goal\")),\n",
    "        (\"passthrough\", \"passthrough\"),\n",
    "    ))\n",
    "    # See https://github.com/dmlc/xgboost/blob/master/doc/parameter.rst for parameter\n",
    "    # definitions\n",
    "    model = XGBClassifier(\n",
    "        max_depth=5,\n",
    "        learning_rate=0.3,\n",
    "        gamma=0,\n",
    "        min_child_weight=1,\n",
    "        subsample=1,\n",
    "        reg_lambda=1,\n",
    "        reg_alpha=0,\n",
    "        eval_metric=\"mae\",\n",
    "        early_stopping_rounds=5, \n",
    "        objective=\"reg:squarederror\",\n",
    "        monotone_constraints=None,\n",
    "        random_state=2309\n",
    "    )\n",
    "    \n",
    "    param_grid = {\n",
    "        \"max_depth\": [3, 4, 5, 6, 7],\n",
    "        \"learning_rate\": [0.3, 0.6],\n",
    "        \"min_child_weight\": [1, 5, 10]\n",
    "    }\n",
    "    #param_grid = {\"max_depth\": [5], \"learning_rate\": [0.3], \"min_child_weight\": [1]}\n",
    "    \n",
    "    model = GridSearchCV(model, param_grid)\n",
    "    train_df_transformed = data_prep_pipeline.fit_transform(train_df)\n",
    "    test_df_transformed = data_prep_pipeline.transform(test_df)\n",
    "    \n",
    "    with warnings.catch_warnings():\n",
    "        warnings.simplefilter(action='ignore', category=FutureWarning)\n",
    "        model.fit(\n",
    "            train_df_transformed, train_df[\"is_goal\"], \n",
    "            eval_set=[(test_df_transformed, test_df[\"is_goal\"])],\n",
    "            verbose=False\n",
    "        )\n",
    "        test_probs = model.predict_proba(test_df_transformed)[:,1]\n",
    "    mae = mean_absolute_error(test_df[\"is_goal\"], test_probs)\n",
    "    mae_statsbomb = mean_absolute_error(test_df[\"is_goal\"], test_df[\"statsbomb_xg\"])\n",
    "    mse = mean_squared_error(test_df[\"is_goal\"], test_probs)\n",
    "    mse_statsbomb = mean_squared_error(test_df[\"is_goal\"], test_df[\"statsbomb_xg\"])\n",
    "    auroc = roc_auc_score(test_df[\"is_goal\"], test_probs)\n",
    "    auroc_statsbomb = roc_auc_score(test_df[\"is_goal\"], test_df[\"statsbomb_xg\"])\n",
    "    loss_info.append({\n",
    "        \"competition\": competition_name, \n",
    "        \"mae\": mae,\n",
    "        \"mae_statsbomb\": mae_statsbomb,\n",
    "        \"mse\": mse,\n",
    "        \"mse_statsbomb\": mse_statsbomb,\n",
    "        \"auc\": auroc,\n",
    "        \"auc_statsbomb\": auroc_statsbomb\n",
    "    })\n",
    "    model_info[competition_name] = {\"data_prep_pipeline\": data_prep_pipeline, \"model\": model}\n",
    "    \n",
    "with open(\"gbm_feature_engineered.dill\", \"wb\") as f:\n",
    "    dill.dump(model_info, f)\n",
    "loss_info = pd.DataFrame(loss_info)"
   ]
  },
  {
   "cell_type": "code",
   "execution_count": 7,
   "id": "7075e54f",
   "metadata": {},
   "outputs": [
    {
     "data": {
      "text/html": [
       "<div>\n",
       "<style scoped>\n",
       "    .dataframe tbody tr th:only-of-type {\n",
       "        vertical-align: middle;\n",
       "    }\n",
       "\n",
       "    .dataframe tbody tr th {\n",
       "        vertical-align: top;\n",
       "    }\n",
       "\n",
       "    .dataframe thead th {\n",
       "        text-align: right;\n",
       "    }\n",
       "</style>\n",
       "<table border=\"1\" class=\"dataframe\">\n",
       "  <thead>\n",
       "    <tr style=\"text-align: right;\">\n",
       "      <th></th>\n",
       "      <th>competition</th>\n",
       "      <th>mae</th>\n",
       "      <th>mae_statsbomb</th>\n",
       "      <th>mse</th>\n",
       "      <th>mse_statsbomb</th>\n",
       "      <th>auc</th>\n",
       "      <th>auc_statsbomb</th>\n",
       "    </tr>\n",
       "  </thead>\n",
       "  <tbody>\n",
       "    <tr>\n",
       "      <th>0</th>\n",
       "      <td>FIFA World Cup</td>\n",
       "      <td>0.159667</td>\n",
       "      <td>0.128149</td>\n",
       "      <td>0.066436</td>\n",
       "      <td>0.057668</td>\n",
       "      <td>0.761628</td>\n",
       "      <td>0.769686</td>\n",
       "    </tr>\n",
       "  </tbody>\n",
       "</table>\n",
       "</div>"
      ],
      "text/plain": [
       "      competition       mae  mae_statsbomb       mse  mse_statsbomb       auc  \\\n",
       "0  FIFA World Cup  0.159667       0.128149  0.066436       0.057668  0.761628   \n",
       "\n",
       "   auc_statsbomb  \n",
       "0       0.769686  "
      ]
     },
     "execution_count": 7,
     "metadata": {},
     "output_type": "execute_result"
    }
   ],
   "source": [
    "loss_info"
   ]
  },
  {
   "cell_type": "code",
   "execution_count": 8,
   "id": "e72c8d52",
   "metadata": {},
   "outputs": [],
   "source": [
    "df = train_data[\"FIFA World Cup\"]\n",
    "phantom_blocks = df[(df[\"is_blocked\"] == 1) & (df[\"num_blockers\"] < 1)]"
   ]
  },
  {
   "cell_type": "code",
   "execution_count": 27,
   "id": "2c303d48",
   "metadata": {},
   "outputs": [],
   "source": [
    "row = 1\n",
    "record = phantom_blocks.iloc[row].to_dict()\n",
    "shot_data = {\n",
    "    \"x\": [record[\"coordinates_x\"]], \"y\": [record[\"coordinates_y\"]], \"role\": [\"shooter\"]\n",
    "}\n",
    "for player in record[\"freeze_frame\"]:\n",
    "    shot_data[\"x\"].append(player[\"location\"][0])\n",
    "    shot_data[\"y\"].append(player[\"location\"][1])\n",
    "    role = \"other\"\n",
    "    if player[\"position\"][\"name\"] == \"Goalkeeper\":\n",
    "        role = \"goalkeeper\"\n",
    "    elif player[\"teammate\"] == False:\n",
    "        role = \"defender\"\n",
    "    else:\n",
    "        role = \"teammate\"\n",
    "    shot_data[\"role\"].append(role)\n",
    "    \n",
    "    #shot_data[\"role\"].append(\"goalkeeper\" if player[\"position\"][\"name\"] == \"Goalkeeper\" else \"other\")\n",
    "shot_data = pd.DataFrame(shot_data)"
   ]
  },
  {
   "cell_type": "code",
   "execution_count": 34,
   "id": "c4031683",
   "metadata": {},
   "outputs": [
    {
     "data": {
      "application/vnd.plotly.v1+json": {
       "config": {
        "plotlyServerURL": "https://plot.ly"
       },
       "data": [
        {
         "error_y": {
          "array": [
           1
          ]
         },
         "hovertemplate": "role=shooter<br>x=%{x}<br>y=%{y}<extra></extra>",
         "legendgroup": "shooter",
         "marker": {
          "color": "#636efa",
          "symbol": "circle"
         },
         "mode": "markers",
         "name": "shooter",
         "orientation": "v",
         "showlegend": true,
         "type": "scatter",
         "x": [
          96.25
         ],
         "xaxis": "x",
         "y": [
          40.75
         ],
         "yaxis": "y"
        },
        {
         "error_y": {
          "array": [
           1,
           1,
           1,
           1,
           1,
           1,
           1,
           1,
           1
          ]
         },
         "hovertemplate": "role=defender<br>x=%{x}<br>y=%{y}<extra></extra>",
         "legendgroup": "defender",
         "marker": {
          "color": "#EF553B",
          "symbol": "circle"
         },
         "mode": "markers",
         "name": "defender",
         "orientation": "v",
         "showlegend": true,
         "type": "scatter",
         "x": [
          118.3,
          106.6,
          115.2,
          112.4,
          110.1,
          108.4,
          95.3,
          103.4,
          98.9
         ],
         "xaxis": "x",
         "y": [
          33.1,
          38.2,
          44.5,
          35.7,
          40.1,
          39.2,
          45.1,
          40.4,
          17.2
         ],
         "yaxis": "y"
        },
        {
         "error_y": {
          "array": [
           1
          ]
         },
         "hovertemplate": "role=goalkeeper<br>x=%{x}<br>y=%{y}<extra></extra>",
         "legendgroup": "goalkeeper",
         "marker": {
          "color": "#00cc96",
          "symbol": "circle"
         },
         "mode": "markers",
         "name": "goalkeeper",
         "orientation": "v",
         "showlegend": true,
         "type": "scatter",
         "x": [
          117.6
         ],
         "xaxis": "x",
         "y": [
          40.1
         ],
         "yaxis": "y"
        },
        {
         "error_y": {
          "array": [
           1,
           1,
           1,
           1,
           1
          ]
         },
         "hovertemplate": "role=teammate<br>x=%{x}<br>y=%{y}<extra></extra>",
         "legendgroup": "teammate",
         "marker": {
          "color": "#ab63fa",
          "symbol": "circle"
         },
         "mode": "markers",
         "name": "teammate",
         "orientation": "v",
         "showlegend": true,
         "type": "scatter",
         "x": [
          112,
          113.4,
          108.2,
          105.2,
          89.2
         ],
         "xaxis": "x",
         "y": [
          36.9,
          30.7,
          41.2,
          55.9,
          30.7
         ],
         "yaxis": "y"
        },
        {
         "hovertemplate": "x=%{x}<br>y1=%{y}<extra></extra>",
         "legendgroup": "",
         "line": {
          "color": "#636efa",
          "dash": "solid"
         },
         "marker": {
          "symbol": "circle"
         },
         "mode": "lines",
         "name": "",
         "orientation": "v",
         "showlegend": false,
         "type": "scatter",
         "x": [
          96.25,
          120
         ],
         "xaxis": "x",
         "y": [
          41.75,
          44
         ],
         "yaxis": "y"
        },
        {
         "hovertemplate": "x=%{x}<br>y2=%{y}<extra></extra>",
         "legendgroup": "",
         "line": {
          "color": "#636efa",
          "dash": "solid"
         },
         "marker": {
          "symbol": "circle"
         },
         "mode": "lines",
         "name": "",
         "orientation": "v",
         "showlegend": false,
         "type": "scatter",
         "x": [
          96.25,
          120
         ],
         "xaxis": "x",
         "y": [
          39.75,
          36
         ],
         "yaxis": "y"
        }
       ],
       "layout": {
        "template": {
         "data": {
          "bar": [
           {
            "error_x": {
             "color": "#2a3f5f"
            },
            "error_y": {
             "color": "#2a3f5f"
            },
            "marker": {
             "line": {
              "color": "#E5ECF6",
              "width": 0.5
             },
             "pattern": {
              "fillmode": "overlay",
              "size": 10,
              "solidity": 0.2
             }
            },
            "type": "bar"
           }
          ],
          "barpolar": [
           {
            "marker": {
             "line": {
              "color": "#E5ECF6",
              "width": 0.5
             },
             "pattern": {
              "fillmode": "overlay",
              "size": 10,
              "solidity": 0.2
             }
            },
            "type": "barpolar"
           }
          ],
          "carpet": [
           {
            "aaxis": {
             "endlinecolor": "#2a3f5f",
             "gridcolor": "white",
             "linecolor": "white",
             "minorgridcolor": "white",
             "startlinecolor": "#2a3f5f"
            },
            "baxis": {
             "endlinecolor": "#2a3f5f",
             "gridcolor": "white",
             "linecolor": "white",
             "minorgridcolor": "white",
             "startlinecolor": "#2a3f5f"
            },
            "type": "carpet"
           }
          ],
          "choropleth": [
           {
            "colorbar": {
             "outlinewidth": 0,
             "ticks": ""
            },
            "type": "choropleth"
           }
          ],
          "contour": [
           {
            "colorbar": {
             "outlinewidth": 0,
             "ticks": ""
            },
            "colorscale": [
             [
              0,
              "#0d0887"
             ],
             [
              0.1111111111111111,
              "#46039f"
             ],
             [
              0.2222222222222222,
              "#7201a8"
             ],
             [
              0.3333333333333333,
              "#9c179e"
             ],
             [
              0.4444444444444444,
              "#bd3786"
             ],
             [
              0.5555555555555556,
              "#d8576b"
             ],
             [
              0.6666666666666666,
              "#ed7953"
             ],
             [
              0.7777777777777778,
              "#fb9f3a"
             ],
             [
              0.8888888888888888,
              "#fdca26"
             ],
             [
              1,
              "#f0f921"
             ]
            ],
            "type": "contour"
           }
          ],
          "contourcarpet": [
           {
            "colorbar": {
             "outlinewidth": 0,
             "ticks": ""
            },
            "type": "contourcarpet"
           }
          ],
          "heatmap": [
           {
            "colorbar": {
             "outlinewidth": 0,
             "ticks": ""
            },
            "colorscale": [
             [
              0,
              "#0d0887"
             ],
             [
              0.1111111111111111,
              "#46039f"
             ],
             [
              0.2222222222222222,
              "#7201a8"
             ],
             [
              0.3333333333333333,
              "#9c179e"
             ],
             [
              0.4444444444444444,
              "#bd3786"
             ],
             [
              0.5555555555555556,
              "#d8576b"
             ],
             [
              0.6666666666666666,
              "#ed7953"
             ],
             [
              0.7777777777777778,
              "#fb9f3a"
             ],
             [
              0.8888888888888888,
              "#fdca26"
             ],
             [
              1,
              "#f0f921"
             ]
            ],
            "type": "heatmap"
           }
          ],
          "heatmapgl": [
           {
            "colorbar": {
             "outlinewidth": 0,
             "ticks": ""
            },
            "colorscale": [
             [
              0,
              "#0d0887"
             ],
             [
              0.1111111111111111,
              "#46039f"
             ],
             [
              0.2222222222222222,
              "#7201a8"
             ],
             [
              0.3333333333333333,
              "#9c179e"
             ],
             [
              0.4444444444444444,
              "#bd3786"
             ],
             [
              0.5555555555555556,
              "#d8576b"
             ],
             [
              0.6666666666666666,
              "#ed7953"
             ],
             [
              0.7777777777777778,
              "#fb9f3a"
             ],
             [
              0.8888888888888888,
              "#fdca26"
             ],
             [
              1,
              "#f0f921"
             ]
            ],
            "type": "heatmapgl"
           }
          ],
          "histogram": [
           {
            "marker": {
             "pattern": {
              "fillmode": "overlay",
              "size": 10,
              "solidity": 0.2
             }
            },
            "type": "histogram"
           }
          ],
          "histogram2d": [
           {
            "colorbar": {
             "outlinewidth": 0,
             "ticks": ""
            },
            "colorscale": [
             [
              0,
              "#0d0887"
             ],
             [
              0.1111111111111111,
              "#46039f"
             ],
             [
              0.2222222222222222,
              "#7201a8"
             ],
             [
              0.3333333333333333,
              "#9c179e"
             ],
             [
              0.4444444444444444,
              "#bd3786"
             ],
             [
              0.5555555555555556,
              "#d8576b"
             ],
             [
              0.6666666666666666,
              "#ed7953"
             ],
             [
              0.7777777777777778,
              "#fb9f3a"
             ],
             [
              0.8888888888888888,
              "#fdca26"
             ],
             [
              1,
              "#f0f921"
             ]
            ],
            "type": "histogram2d"
           }
          ],
          "histogram2dcontour": [
           {
            "colorbar": {
             "outlinewidth": 0,
             "ticks": ""
            },
            "colorscale": [
             [
              0,
              "#0d0887"
             ],
             [
              0.1111111111111111,
              "#46039f"
             ],
             [
              0.2222222222222222,
              "#7201a8"
             ],
             [
              0.3333333333333333,
              "#9c179e"
             ],
             [
              0.4444444444444444,
              "#bd3786"
             ],
             [
              0.5555555555555556,
              "#d8576b"
             ],
             [
              0.6666666666666666,
              "#ed7953"
             ],
             [
              0.7777777777777778,
              "#fb9f3a"
             ],
             [
              0.8888888888888888,
              "#fdca26"
             ],
             [
              1,
              "#f0f921"
             ]
            ],
            "type": "histogram2dcontour"
           }
          ],
          "mesh3d": [
           {
            "colorbar": {
             "outlinewidth": 0,
             "ticks": ""
            },
            "type": "mesh3d"
           }
          ],
          "parcoords": [
           {
            "line": {
             "colorbar": {
              "outlinewidth": 0,
              "ticks": ""
             }
            },
            "type": "parcoords"
           }
          ],
          "pie": [
           {
            "automargin": true,
            "type": "pie"
           }
          ],
          "scatter": [
           {
            "fillpattern": {
             "fillmode": "overlay",
             "size": 10,
             "solidity": 0.2
            },
            "type": "scatter"
           }
          ],
          "scatter3d": [
           {
            "line": {
             "colorbar": {
              "outlinewidth": 0,
              "ticks": ""
             }
            },
            "marker": {
             "colorbar": {
              "outlinewidth": 0,
              "ticks": ""
             }
            },
            "type": "scatter3d"
           }
          ],
          "scattercarpet": [
           {
            "marker": {
             "colorbar": {
              "outlinewidth": 0,
              "ticks": ""
             }
            },
            "type": "scattercarpet"
           }
          ],
          "scattergeo": [
           {
            "marker": {
             "colorbar": {
              "outlinewidth": 0,
              "ticks": ""
             }
            },
            "type": "scattergeo"
           }
          ],
          "scattergl": [
           {
            "marker": {
             "colorbar": {
              "outlinewidth": 0,
              "ticks": ""
             }
            },
            "type": "scattergl"
           }
          ],
          "scattermapbox": [
           {
            "marker": {
             "colorbar": {
              "outlinewidth": 0,
              "ticks": ""
             }
            },
            "type": "scattermapbox"
           }
          ],
          "scatterpolar": [
           {
            "marker": {
             "colorbar": {
              "outlinewidth": 0,
              "ticks": ""
             }
            },
            "type": "scatterpolar"
           }
          ],
          "scatterpolargl": [
           {
            "marker": {
             "colorbar": {
              "outlinewidth": 0,
              "ticks": ""
             }
            },
            "type": "scatterpolargl"
           }
          ],
          "scatterternary": [
           {
            "marker": {
             "colorbar": {
              "outlinewidth": 0,
              "ticks": ""
             }
            },
            "type": "scatterternary"
           }
          ],
          "surface": [
           {
            "colorbar": {
             "outlinewidth": 0,
             "ticks": ""
            },
            "colorscale": [
             [
              0,
              "#0d0887"
             ],
             [
              0.1111111111111111,
              "#46039f"
             ],
             [
              0.2222222222222222,
              "#7201a8"
             ],
             [
              0.3333333333333333,
              "#9c179e"
             ],
             [
              0.4444444444444444,
              "#bd3786"
             ],
             [
              0.5555555555555556,
              "#d8576b"
             ],
             [
              0.6666666666666666,
              "#ed7953"
             ],
             [
              0.7777777777777778,
              "#fb9f3a"
             ],
             [
              0.8888888888888888,
              "#fdca26"
             ],
             [
              1,
              "#f0f921"
             ]
            ],
            "type": "surface"
           }
          ],
          "table": [
           {
            "cells": {
             "fill": {
              "color": "#EBF0F8"
             },
             "line": {
              "color": "white"
             }
            },
            "header": {
             "fill": {
              "color": "#C8D4E3"
             },
             "line": {
              "color": "white"
             }
            },
            "type": "table"
           }
          ]
         },
         "layout": {
          "annotationdefaults": {
           "arrowcolor": "#2a3f5f",
           "arrowhead": 0,
           "arrowwidth": 1
          },
          "autotypenumbers": "strict",
          "coloraxis": {
           "colorbar": {
            "outlinewidth": 0,
            "ticks": ""
           }
          },
          "colorscale": {
           "diverging": [
            [
             0,
             "#8e0152"
            ],
            [
             0.1,
             "#c51b7d"
            ],
            [
             0.2,
             "#de77ae"
            ],
            [
             0.3,
             "#f1b6da"
            ],
            [
             0.4,
             "#fde0ef"
            ],
            [
             0.5,
             "#f7f7f7"
            ],
            [
             0.6,
             "#e6f5d0"
            ],
            [
             0.7,
             "#b8e186"
            ],
            [
             0.8,
             "#7fbc41"
            ],
            [
             0.9,
             "#4d9221"
            ],
            [
             1,
             "#276419"
            ]
           ],
           "sequential": [
            [
             0,
             "#0d0887"
            ],
            [
             0.1111111111111111,
             "#46039f"
            ],
            [
             0.2222222222222222,
             "#7201a8"
            ],
            [
             0.3333333333333333,
             "#9c179e"
            ],
            [
             0.4444444444444444,
             "#bd3786"
            ],
            [
             0.5555555555555556,
             "#d8576b"
            ],
            [
             0.6666666666666666,
             "#ed7953"
            ],
            [
             0.7777777777777778,
             "#fb9f3a"
            ],
            [
             0.8888888888888888,
             "#fdca26"
            ],
            [
             1,
             "#f0f921"
            ]
           ],
           "sequentialminus": [
            [
             0,
             "#0d0887"
            ],
            [
             0.1111111111111111,
             "#46039f"
            ],
            [
             0.2222222222222222,
             "#7201a8"
            ],
            [
             0.3333333333333333,
             "#9c179e"
            ],
            [
             0.4444444444444444,
             "#bd3786"
            ],
            [
             0.5555555555555556,
             "#d8576b"
            ],
            [
             0.6666666666666666,
             "#ed7953"
            ],
            [
             0.7777777777777778,
             "#fb9f3a"
            ],
            [
             0.8888888888888888,
             "#fdca26"
            ],
            [
             1,
             "#f0f921"
            ]
           ]
          },
          "colorway": [
           "#636efa",
           "#EF553B",
           "#00cc96",
           "#ab63fa",
           "#FFA15A",
           "#19d3f3",
           "#FF6692",
           "#B6E880",
           "#FF97FF",
           "#FECB52"
          ],
          "font": {
           "color": "#2a3f5f"
          },
          "geo": {
           "bgcolor": "white",
           "lakecolor": "white",
           "landcolor": "#E5ECF6",
           "showlakes": true,
           "showland": true,
           "subunitcolor": "white"
          },
          "hoverlabel": {
           "align": "left"
          },
          "hovermode": "closest",
          "mapbox": {
           "style": "light"
          },
          "paper_bgcolor": "white",
          "plot_bgcolor": "#E5ECF6",
          "polar": {
           "angularaxis": {
            "gridcolor": "white",
            "linecolor": "white",
            "ticks": ""
           },
           "bgcolor": "#E5ECF6",
           "radialaxis": {
            "gridcolor": "white",
            "linecolor": "white",
            "ticks": ""
           }
          },
          "scene": {
           "xaxis": {
            "backgroundcolor": "#E5ECF6",
            "gridcolor": "white",
            "gridwidth": 2,
            "linecolor": "white",
            "showbackground": true,
            "ticks": "",
            "zerolinecolor": "white"
           },
           "yaxis": {
            "backgroundcolor": "#E5ECF6",
            "gridcolor": "white",
            "gridwidth": 2,
            "linecolor": "white",
            "showbackground": true,
            "ticks": "",
            "zerolinecolor": "white"
           },
           "zaxis": {
            "backgroundcolor": "#E5ECF6",
            "gridcolor": "white",
            "gridwidth": 2,
            "linecolor": "white",
            "showbackground": true,
            "ticks": "",
            "zerolinecolor": "white"
           }
          },
          "shapedefaults": {
           "line": {
            "color": "#2a3f5f"
           }
          },
          "ternary": {
           "aaxis": {
            "gridcolor": "white",
            "linecolor": "white",
            "ticks": ""
           },
           "baxis": {
            "gridcolor": "white",
            "linecolor": "white",
            "ticks": ""
           },
           "bgcolor": "#E5ECF6",
           "caxis": {
            "gridcolor": "white",
            "linecolor": "white",
            "ticks": ""
           }
          },
          "title": {
           "x": 0.05
          },
          "xaxis": {
           "automargin": true,
           "gridcolor": "white",
           "linecolor": "white",
           "ticks": "",
           "title": {
            "standoff": 15
           },
           "zerolinecolor": "white",
           "zerolinewidth": 2
          },
          "yaxis": {
           "automargin": true,
           "gridcolor": "white",
           "linecolor": "white",
           "ticks": "",
           "title": {
            "standoff": 15
           },
           "zerolinecolor": "white",
           "zerolinewidth": 2
          }
         }
        },
        "xaxis": {
         "range": [
          120,
          90
         ]
        },
        "yaxis": {
         "range": [
          18,
          62
         ]
        }
       }
      },
      "text/html": [
       "<div>                            <div id=\"1abfc8ae-2fe8-43c5-9465-a6d0efb2810d\" class=\"plotly-graph-div\" style=\"height:525px; width:100%;\"></div>            <script type=\"text/javascript\">                require([\"plotly\"], function(Plotly) {                    window.PLOTLYENV=window.PLOTLYENV || {};                                    if (document.getElementById(\"1abfc8ae-2fe8-43c5-9465-a6d0efb2810d\")) {                    Plotly.newPlot(                        \"1abfc8ae-2fe8-43c5-9465-a6d0efb2810d\",                        [{\"error_y\":{\"array\":[1]},\"hovertemplate\":\"role=shooter\\u003cbr\\u003ex=%{x}\\u003cbr\\u003ey=%{y}\\u003cextra\\u003e\\u003c\\u002fextra\\u003e\",\"legendgroup\":\"shooter\",\"marker\":{\"color\":\"#636efa\",\"symbol\":\"circle\"},\"mode\":\"markers\",\"name\":\"shooter\",\"orientation\":\"v\",\"showlegend\":true,\"x\":[96.25],\"xaxis\":\"x\",\"y\":[40.75],\"yaxis\":\"y\",\"type\":\"scatter\"},{\"error_y\":{\"array\":[1,1,1,1,1,1,1,1,1]},\"hovertemplate\":\"role=defender\\u003cbr\\u003ex=%{x}\\u003cbr\\u003ey=%{y}\\u003cextra\\u003e\\u003c\\u002fextra\\u003e\",\"legendgroup\":\"defender\",\"marker\":{\"color\":\"#EF553B\",\"symbol\":\"circle\"},\"mode\":\"markers\",\"name\":\"defender\",\"orientation\":\"v\",\"showlegend\":true,\"x\":[118.3,106.6,115.2,112.4,110.1,108.4,95.3,103.4,98.9],\"xaxis\":\"x\",\"y\":[33.1,38.2,44.5,35.7,40.1,39.2,45.1,40.4,17.2],\"yaxis\":\"y\",\"type\":\"scatter\"},{\"error_y\":{\"array\":[1]},\"hovertemplate\":\"role=goalkeeper\\u003cbr\\u003ex=%{x}\\u003cbr\\u003ey=%{y}\\u003cextra\\u003e\\u003c\\u002fextra\\u003e\",\"legendgroup\":\"goalkeeper\",\"marker\":{\"color\":\"#00cc96\",\"symbol\":\"circle\"},\"mode\":\"markers\",\"name\":\"goalkeeper\",\"orientation\":\"v\",\"showlegend\":true,\"x\":[117.6],\"xaxis\":\"x\",\"y\":[40.1],\"yaxis\":\"y\",\"type\":\"scatter\"},{\"error_y\":{\"array\":[1,1,1,1,1]},\"hovertemplate\":\"role=teammate\\u003cbr\\u003ex=%{x}\\u003cbr\\u003ey=%{y}\\u003cextra\\u003e\\u003c\\u002fextra\\u003e\",\"legendgroup\":\"teammate\",\"marker\":{\"color\":\"#ab63fa\",\"symbol\":\"circle\"},\"mode\":\"markers\",\"name\":\"teammate\",\"orientation\":\"v\",\"showlegend\":true,\"x\":[112.0,113.4,108.2,105.2,89.2],\"xaxis\":\"x\",\"y\":[36.9,30.7,41.2,55.9,30.7],\"yaxis\":\"y\",\"type\":\"scatter\"},{\"hovertemplate\":\"x=%{x}\\u003cbr\\u003ey1=%{y}\\u003cextra\\u003e\\u003c\\u002fextra\\u003e\",\"legendgroup\":\"\",\"line\":{\"color\":\"#636efa\",\"dash\":\"solid\"},\"marker\":{\"symbol\":\"circle\"},\"mode\":\"lines\",\"name\":\"\",\"orientation\":\"v\",\"showlegend\":false,\"x\":[96.25,120.0],\"xaxis\":\"x\",\"y\":[41.75,44.0],\"yaxis\":\"y\",\"type\":\"scatter\"},{\"hovertemplate\":\"x=%{x}\\u003cbr\\u003ey2=%{y}\\u003cextra\\u003e\\u003c\\u002fextra\\u003e\",\"legendgroup\":\"\",\"line\":{\"color\":\"#636efa\",\"dash\":\"solid\"},\"marker\":{\"symbol\":\"circle\"},\"mode\":\"lines\",\"name\":\"\",\"orientation\":\"v\",\"showlegend\":false,\"x\":[96.25,120.0],\"xaxis\":\"x\",\"y\":[39.75,36.0],\"yaxis\":\"y\",\"type\":\"scatter\"}],                        {\"template\":{\"data\":{\"histogram2dcontour\":[{\"type\":\"histogram2dcontour\",\"colorbar\":{\"outlinewidth\":0,\"ticks\":\"\"},\"colorscale\":[[0.0,\"#0d0887\"],[0.1111111111111111,\"#46039f\"],[0.2222222222222222,\"#7201a8\"],[0.3333333333333333,\"#9c179e\"],[0.4444444444444444,\"#bd3786\"],[0.5555555555555556,\"#d8576b\"],[0.6666666666666666,\"#ed7953\"],[0.7777777777777778,\"#fb9f3a\"],[0.8888888888888888,\"#fdca26\"],[1.0,\"#f0f921\"]]}],\"choropleth\":[{\"type\":\"choropleth\",\"colorbar\":{\"outlinewidth\":0,\"ticks\":\"\"}}],\"histogram2d\":[{\"type\":\"histogram2d\",\"colorbar\":{\"outlinewidth\":0,\"ticks\":\"\"},\"colorscale\":[[0.0,\"#0d0887\"],[0.1111111111111111,\"#46039f\"],[0.2222222222222222,\"#7201a8\"],[0.3333333333333333,\"#9c179e\"],[0.4444444444444444,\"#bd3786\"],[0.5555555555555556,\"#d8576b\"],[0.6666666666666666,\"#ed7953\"],[0.7777777777777778,\"#fb9f3a\"],[0.8888888888888888,\"#fdca26\"],[1.0,\"#f0f921\"]]}],\"heatmap\":[{\"type\":\"heatmap\",\"colorbar\":{\"outlinewidth\":0,\"ticks\":\"\"},\"colorscale\":[[0.0,\"#0d0887\"],[0.1111111111111111,\"#46039f\"],[0.2222222222222222,\"#7201a8\"],[0.3333333333333333,\"#9c179e\"],[0.4444444444444444,\"#bd3786\"],[0.5555555555555556,\"#d8576b\"],[0.6666666666666666,\"#ed7953\"],[0.7777777777777778,\"#fb9f3a\"],[0.8888888888888888,\"#fdca26\"],[1.0,\"#f0f921\"]]}],\"heatmapgl\":[{\"type\":\"heatmapgl\",\"colorbar\":{\"outlinewidth\":0,\"ticks\":\"\"},\"colorscale\":[[0.0,\"#0d0887\"],[0.1111111111111111,\"#46039f\"],[0.2222222222222222,\"#7201a8\"],[0.3333333333333333,\"#9c179e\"],[0.4444444444444444,\"#bd3786\"],[0.5555555555555556,\"#d8576b\"],[0.6666666666666666,\"#ed7953\"],[0.7777777777777778,\"#fb9f3a\"],[0.8888888888888888,\"#fdca26\"],[1.0,\"#f0f921\"]]}],\"contourcarpet\":[{\"type\":\"contourcarpet\",\"colorbar\":{\"outlinewidth\":0,\"ticks\":\"\"}}],\"contour\":[{\"type\":\"contour\",\"colorbar\":{\"outlinewidth\":0,\"ticks\":\"\"},\"colorscale\":[[0.0,\"#0d0887\"],[0.1111111111111111,\"#46039f\"],[0.2222222222222222,\"#7201a8\"],[0.3333333333333333,\"#9c179e\"],[0.4444444444444444,\"#bd3786\"],[0.5555555555555556,\"#d8576b\"],[0.6666666666666666,\"#ed7953\"],[0.7777777777777778,\"#fb9f3a\"],[0.8888888888888888,\"#fdca26\"],[1.0,\"#f0f921\"]]}],\"surface\":[{\"type\":\"surface\",\"colorbar\":{\"outlinewidth\":0,\"ticks\":\"\"},\"colorscale\":[[0.0,\"#0d0887\"],[0.1111111111111111,\"#46039f\"],[0.2222222222222222,\"#7201a8\"],[0.3333333333333333,\"#9c179e\"],[0.4444444444444444,\"#bd3786\"],[0.5555555555555556,\"#d8576b\"],[0.6666666666666666,\"#ed7953\"],[0.7777777777777778,\"#fb9f3a\"],[0.8888888888888888,\"#fdca26\"],[1.0,\"#f0f921\"]]}],\"mesh3d\":[{\"type\":\"mesh3d\",\"colorbar\":{\"outlinewidth\":0,\"ticks\":\"\"}}],\"scatter\":[{\"fillpattern\":{\"fillmode\":\"overlay\",\"size\":10,\"solidity\":0.2},\"type\":\"scatter\"}],\"parcoords\":[{\"type\":\"parcoords\",\"line\":{\"colorbar\":{\"outlinewidth\":0,\"ticks\":\"\"}}}],\"scatterpolargl\":[{\"type\":\"scatterpolargl\",\"marker\":{\"colorbar\":{\"outlinewidth\":0,\"ticks\":\"\"}}}],\"bar\":[{\"error_x\":{\"color\":\"#2a3f5f\"},\"error_y\":{\"color\":\"#2a3f5f\"},\"marker\":{\"line\":{\"color\":\"#E5ECF6\",\"width\":0.5},\"pattern\":{\"fillmode\":\"overlay\",\"size\":10,\"solidity\":0.2}},\"type\":\"bar\"}],\"scattergeo\":[{\"type\":\"scattergeo\",\"marker\":{\"colorbar\":{\"outlinewidth\":0,\"ticks\":\"\"}}}],\"scatterpolar\":[{\"type\":\"scatterpolar\",\"marker\":{\"colorbar\":{\"outlinewidth\":0,\"ticks\":\"\"}}}],\"histogram\":[{\"marker\":{\"pattern\":{\"fillmode\":\"overlay\",\"size\":10,\"solidity\":0.2}},\"type\":\"histogram\"}],\"scattergl\":[{\"type\":\"scattergl\",\"marker\":{\"colorbar\":{\"outlinewidth\":0,\"ticks\":\"\"}}}],\"scatter3d\":[{\"type\":\"scatter3d\",\"line\":{\"colorbar\":{\"outlinewidth\":0,\"ticks\":\"\"}},\"marker\":{\"colorbar\":{\"outlinewidth\":0,\"ticks\":\"\"}}}],\"scattermapbox\":[{\"type\":\"scattermapbox\",\"marker\":{\"colorbar\":{\"outlinewidth\":0,\"ticks\":\"\"}}}],\"scatterternary\":[{\"type\":\"scatterternary\",\"marker\":{\"colorbar\":{\"outlinewidth\":0,\"ticks\":\"\"}}}],\"scattercarpet\":[{\"type\":\"scattercarpet\",\"marker\":{\"colorbar\":{\"outlinewidth\":0,\"ticks\":\"\"}}}],\"carpet\":[{\"aaxis\":{\"endlinecolor\":\"#2a3f5f\",\"gridcolor\":\"white\",\"linecolor\":\"white\",\"minorgridcolor\":\"white\",\"startlinecolor\":\"#2a3f5f\"},\"baxis\":{\"endlinecolor\":\"#2a3f5f\",\"gridcolor\":\"white\",\"linecolor\":\"white\",\"minorgridcolor\":\"white\",\"startlinecolor\":\"#2a3f5f\"},\"type\":\"carpet\"}],\"table\":[{\"cells\":{\"fill\":{\"color\":\"#EBF0F8\"},\"line\":{\"color\":\"white\"}},\"header\":{\"fill\":{\"color\":\"#C8D4E3\"},\"line\":{\"color\":\"white\"}},\"type\":\"table\"}],\"barpolar\":[{\"marker\":{\"line\":{\"color\":\"#E5ECF6\",\"width\":0.5},\"pattern\":{\"fillmode\":\"overlay\",\"size\":10,\"solidity\":0.2}},\"type\":\"barpolar\"}],\"pie\":[{\"automargin\":true,\"type\":\"pie\"}]},\"layout\":{\"autotypenumbers\":\"strict\",\"colorway\":[\"#636efa\",\"#EF553B\",\"#00cc96\",\"#ab63fa\",\"#FFA15A\",\"#19d3f3\",\"#FF6692\",\"#B6E880\",\"#FF97FF\",\"#FECB52\"],\"font\":{\"color\":\"#2a3f5f\"},\"hovermode\":\"closest\",\"hoverlabel\":{\"align\":\"left\"},\"paper_bgcolor\":\"white\",\"plot_bgcolor\":\"#E5ECF6\",\"polar\":{\"bgcolor\":\"#E5ECF6\",\"angularaxis\":{\"gridcolor\":\"white\",\"linecolor\":\"white\",\"ticks\":\"\"},\"radialaxis\":{\"gridcolor\":\"white\",\"linecolor\":\"white\",\"ticks\":\"\"}},\"ternary\":{\"bgcolor\":\"#E5ECF6\",\"aaxis\":{\"gridcolor\":\"white\",\"linecolor\":\"white\",\"ticks\":\"\"},\"baxis\":{\"gridcolor\":\"white\",\"linecolor\":\"white\",\"ticks\":\"\"},\"caxis\":{\"gridcolor\":\"white\",\"linecolor\":\"white\",\"ticks\":\"\"}},\"coloraxis\":{\"colorbar\":{\"outlinewidth\":0,\"ticks\":\"\"}},\"colorscale\":{\"sequential\":[[0.0,\"#0d0887\"],[0.1111111111111111,\"#46039f\"],[0.2222222222222222,\"#7201a8\"],[0.3333333333333333,\"#9c179e\"],[0.4444444444444444,\"#bd3786\"],[0.5555555555555556,\"#d8576b\"],[0.6666666666666666,\"#ed7953\"],[0.7777777777777778,\"#fb9f3a\"],[0.8888888888888888,\"#fdca26\"],[1.0,\"#f0f921\"]],\"sequentialminus\":[[0.0,\"#0d0887\"],[0.1111111111111111,\"#46039f\"],[0.2222222222222222,\"#7201a8\"],[0.3333333333333333,\"#9c179e\"],[0.4444444444444444,\"#bd3786\"],[0.5555555555555556,\"#d8576b\"],[0.6666666666666666,\"#ed7953\"],[0.7777777777777778,\"#fb9f3a\"],[0.8888888888888888,\"#fdca26\"],[1.0,\"#f0f921\"]],\"diverging\":[[0,\"#8e0152\"],[0.1,\"#c51b7d\"],[0.2,\"#de77ae\"],[0.3,\"#f1b6da\"],[0.4,\"#fde0ef\"],[0.5,\"#f7f7f7\"],[0.6,\"#e6f5d0\"],[0.7,\"#b8e186\"],[0.8,\"#7fbc41\"],[0.9,\"#4d9221\"],[1,\"#276419\"]]},\"xaxis\":{\"gridcolor\":\"white\",\"linecolor\":\"white\",\"ticks\":\"\",\"title\":{\"standoff\":15},\"zerolinecolor\":\"white\",\"automargin\":true,\"zerolinewidth\":2},\"yaxis\":{\"gridcolor\":\"white\",\"linecolor\":\"white\",\"ticks\":\"\",\"title\":{\"standoff\":15},\"zerolinecolor\":\"white\",\"automargin\":true,\"zerolinewidth\":2},\"scene\":{\"xaxis\":{\"backgroundcolor\":\"#E5ECF6\",\"gridcolor\":\"white\",\"linecolor\":\"white\",\"showbackground\":true,\"ticks\":\"\",\"zerolinecolor\":\"white\",\"gridwidth\":2},\"yaxis\":{\"backgroundcolor\":\"#E5ECF6\",\"gridcolor\":\"white\",\"linecolor\":\"white\",\"showbackground\":true,\"ticks\":\"\",\"zerolinecolor\":\"white\",\"gridwidth\":2},\"zaxis\":{\"backgroundcolor\":\"#E5ECF6\",\"gridcolor\":\"white\",\"linecolor\":\"white\",\"showbackground\":true,\"ticks\":\"\",\"zerolinecolor\":\"white\",\"gridwidth\":2}},\"shapedefaults\":{\"line\":{\"color\":\"#2a3f5f\"}},\"annotationdefaults\":{\"arrowcolor\":\"#2a3f5f\",\"arrowhead\":0,\"arrowwidth\":1},\"geo\":{\"bgcolor\":\"white\",\"landcolor\":\"#E5ECF6\",\"subunitcolor\":\"white\",\"showland\":true,\"showlakes\":true,\"lakecolor\":\"white\"},\"title\":{\"x\":0.05},\"mapbox\":{\"style\":\"light\"}}},\"xaxis\":{\"range\":[120,90]},\"yaxis\":{\"range\":[18,62]}},                        {\"responsive\": true}                    ).then(function(){\n",
       "                            \n",
       "var gd = document.getElementById('1abfc8ae-2fe8-43c5-9465-a6d0efb2810d');\n",
       "var x = new MutationObserver(function (mutations, observer) {{\n",
       "        var display = window.getComputedStyle(gd).display;\n",
       "        if (!display || display === 'none') {{\n",
       "            console.log([gd, 'removed!']);\n",
       "            Plotly.purge(gd);\n",
       "            observer.disconnect();\n",
       "        }}\n",
       "}});\n",
       "\n",
       "// Listen for the removal of the full notebook cells\n",
       "var notebookContainer = gd.closest('#notebook-container');\n",
       "if (notebookContainer) {{\n",
       "    x.observe(notebookContainer, {childList: true});\n",
       "}}\n",
       "\n",
       "// Listen for the clearing of the current output cell\n",
       "var outputEl = gd.closest('.output');\n",
       "if (outputEl) {{\n",
       "    x.observe(outputEl, {childList: true});\n",
       "}}\n",
       "\n",
       "                        })                };                });            </script>        </div>"
      ]
     },
     "metadata": {},
     "output_type": "display_data"
    }
   ],
   "source": [
    "import plotly.express as px\n",
    "import plotly.graph_objects as go\n",
    "shot_data[\"error_y\"] = 1\n",
    "fig1 = px.scatter(shot_data, x=\"x\", y=\"y\", color=\"role\", error_y=\"error_y\")\n",
    "\n",
    "offset = 1\n",
    "slope_upper = (record[\"coordinates_y\"] + offset - 44) / (record[\"coordinates_x\"] - 120)\n",
    "slope_lower = (record[\"coordinates_y\"] - offset - 36) / (record[\"coordinates_x\"] - 120)\n",
    "b_upper = (record[\"coordinates_y\"] + offset) - slope_upper * record[\"coordinates_x\"]\n",
    "b_lower = (record[\"coordinates_y\"] - offset) - slope_lower * record[\"coordinates_x\"]\n",
    "\n",
    "triangle = pd.DataFrame({\n",
    "    \"x\": [record[\"coordinates_x\"], 120],\n",
    "})\n",
    "triangle[\"y1\"] = slope_upper * triangle[\"x\"] + b_upper\n",
    "triangle[\"y2\"] = slope_lower * triangle[\"x\"] + b_lower\n",
    "fig2 = px.line(triangle, x=\"x\", y=\"y1\")\n",
    "fig3 = px.line(triangle, x=\"x\", y=\"y2\")\n",
    "fig = go.Figure(fig1.data + fig2.data + fig3.data)\n",
    "fig.update_xaxes(range=[120, 90])\n",
    "fig.update_yaxes(range=[18, 62]) \n",
    "fig.show()"
   ]
  },
  {
   "cell_type": "code",
   "execution_count": 29,
   "id": "46058a6e",
   "metadata": {},
   "outputs": [
    {
     "data": {
      "text/plain": [
       "4.19825"
      ]
     },
     "execution_count": 29,
     "metadata": {},
     "output_type": "execute_result"
    }
   ],
   "source": [
    "record[\"timestamp\"] / 60"
   ]
  },
  {
   "cell_type": "code",
   "execution_count": 30,
   "id": "8d4be0bc",
   "metadata": {},
   "outputs": [
    {
     "data": {
      "text/plain": [
       "[{'location': [118.3, 33.1],\n",
       "  'player': {'id': 22293, 'name': 'Harry Souttar'},\n",
       "  'position': {'id': 3, 'name': 'Right Center Back'},\n",
       "  'teammate': False},\n",
       " {'location': [106.6, 38.2],\n",
       "  'player': {'id': 5490, 'name': 'Jackson Irvine'},\n",
       "  'position': {'id': 13, 'name': 'Right Center Midfield'},\n",
       "  'teammate': False},\n",
       " {'location': [115.2, 44.5],\n",
       "  'player': {'id': 5479, 'name': 'Aziz Eraltay Behich'},\n",
       "  'position': {'id': 6, 'name': 'Left Back'},\n",
       "  'teammate': False},\n",
       " {'location': [112.4, 35.7],\n",
       "  'player': {'id': 33572, 'name': 'Nathaniel Atkinson'},\n",
       "  'position': {'id': 2, 'name': 'Right Back'},\n",
       "  'teammate': False},\n",
       " {'location': [110.1, 40.1],\n",
       "  'player': {'id': 33495, 'name': 'Kye Rowles'},\n",
       "  'position': {'id': 5, 'name': 'Left Center Back'},\n",
       "  'teammate': False},\n",
       " {'location': [108.4, 39.2],\n",
       "  'player': {'id': 3281, 'name': 'Aaron Mooy'},\n",
       "  'position': {'id': 10, 'name': 'Center Defensive Midfield'},\n",
       "  'teammate': False},\n",
       " {'location': [95.3, 45.1],\n",
       "  'player': {'id': 8346, 'name': 'Craig Goodwin'},\n",
       "  'position': {'id': 16, 'name': 'Left Midfield'},\n",
       "  'teammate': False},\n",
       " {'location': [103.4, 40.4],\n",
       "  'player': {'id': 33477, 'name': 'Riley McGree'},\n",
       "  'position': {'id': 15, 'name': 'Left Center Midfield'},\n",
       "  'teammate': False},\n",
       " {'location': [117.6, 40.1],\n",
       "  'player': {'id': 3240, 'name': 'Mathew Ryan'},\n",
       "  'position': {'id': 1, 'name': 'Goalkeeper'},\n",
       "  'teammate': False},\n",
       " {'location': [98.9, 17.2],\n",
       "  'player': {'id': 5481, 'name': 'Mathew Leckie'},\n",
       "  'position': {'id': 12, 'name': 'Right Midfield'},\n",
       "  'teammate': False},\n",
       " {'location': [112.0, 36.9],\n",
       "  'player': {'id': 3009, 'name': 'Kylian Mbappé Lottin'},\n",
       "  'position': {'id': 21, 'name': 'Left Wing'},\n",
       "  'teammate': True},\n",
       " {'location': [113.4, 30.7],\n",
       "  'player': {'id': 5487, 'name': 'Antoine Griezmann'},\n",
       "  'position': {'id': 19, 'name': 'Center Attacking Midfield'},\n",
       "  'teammate': True},\n",
       " {'location': [108.2, 41.2],\n",
       "  'player': {'id': 3604, 'name': 'Olivier Giroud'},\n",
       "  'position': {'id': 23, 'name': 'Center Forward'},\n",
       "  'teammate': True},\n",
       " {'location': [105.2, 55.9],\n",
       "  'player': {'id': 5477, 'name': 'Ousmane Dembélé'},\n",
       "  'position': {'id': 17, 'name': 'Right Wing'},\n",
       "  'teammate': True},\n",
       " {'location': [89.2, 30.7],\n",
       "  'player': {'id': 3026, 'name': 'Adrien Rabiot'},\n",
       "  'position': {'id': 11, 'name': 'Left Defensive Midfield'},\n",
       "  'teammate': True}]"
      ]
     },
     "execution_count": 30,
     "metadata": {},
     "output_type": "execute_result"
    }
   ],
   "source": [
    "record[\"freeze_frame\"]"
   ]
  },
  {
   "cell_type": "code",
   "execution_count": null,
   "id": "848bf5f2",
   "metadata": {},
   "outputs": [],
   "source": []
  }
 ],
 "metadata": {
  "kernelspec": {
   "display_name": "Python 3 (ipykernel)",
   "language": "python",
   "name": "python3"
  },
  "language_info": {
   "codemirror_mode": {
    "name": "ipython",
    "version": 3
   },
   "file_extension": ".py",
   "mimetype": "text/x-python",
   "name": "python",
   "nbconvert_exporter": "python",
   "pygments_lexer": "ipython3",
   "version": "3.10.12"
  }
 },
 "nbformat": 4,
 "nbformat_minor": 5
}
