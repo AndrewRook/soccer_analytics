{
 "cells": [
  {
   "cell_type": "code",
   "execution_count": 1,
   "id": "221b8a16",
   "metadata": {},
   "outputs": [],
   "source": [
    "import math\n",
    "import matplotlib.pyplot as plt\n",
    "import pandas as pd\n",
    "import numpy as np\n",
    "\n",
    "from kloppy.domain.models import Point\n",
    "from typing import Callable, Sequence, Union\n",
    "from sklearn.model_selection import train_test_split\n",
    "from sklearn.metrics import roc_auc_score\n",
    "\n",
    "from soccer_analytics.data.statsbomb import load_competition_seasons\n",
    "from soccer_analytics.data_split import split_by_time\n",
    "from soccer_analytics.preprocessing import match_list_to_df, get_block_score, uniform_block_score"
   ]
  },
  {
   "cell_type": "code",
   "execution_count": 2,
   "id": "98883414",
   "metadata": {},
   "outputs": [
    {
     "data": {
      "text/plain": [
       "40"
      ]
     },
     "execution_count": 2,
     "metadata": {},
     "output_type": "execute_result"
    }
   ],
   "source": [
    "\n",
    "matches = load_competition_seasons(\n",
    "    \"FIFA World Cup\", [\"2022\"], event_types=[\"shot\"]\n",
    ")\n",
    "train_test_matches, _ = split_by_time(matches, test_frac=0.2)\n",
    "train_matches, test_matches = train_test_split(\n",
    "    train_test_matches, test_size=0.2, random_state=235\n",
    ")\n",
    "len(train_matches)"
   ]
  },
  {
   "cell_type": "code",
   "execution_count": 3,
   "id": "38af4b45",
   "metadata": {},
   "outputs": [
    {
     "data": {
      "text/plain": [
       "[{'location': [105.7, 38.8],\n",
       "  'player': {'id': 33572, 'name': 'Nathaniel Atkinson'},\n",
       "  'position': {'id': 2, 'name': 'Right Back'},\n",
       "  'teammate': False},\n",
       " {'location': [107.8, 32.9],\n",
       "  'player': {'id': 5481, 'name': 'Mathew Leckie'},\n",
       "  'position': {'id': 12, 'name': 'Right Midfield'},\n",
       "  'teammate': False},\n",
       " {'location': [107.1, 31.2],\n",
       "  'player': {'id': 33477, 'name': 'Riley McGree'},\n",
       "  'position': {'id': 15, 'name': 'Left Center Midfield'},\n",
       "  'teammate': False},\n",
       " {'location': [98.2, 46.6],\n",
       "  'player': {'id': 8346, 'name': 'Craig Goodwin'},\n",
       "  'position': {'id': 16, 'name': 'Left Midfield'},\n",
       "  'teammate': False},\n",
       " {'location': [113.4, 36.0],\n",
       "  'player': {'id': 5490, 'name': 'Jackson Irvine'},\n",
       "  'position': {'id': 13, 'name': 'Right Center Midfield'},\n",
       "  'teammate': False}]"
      ]
     },
     "execution_count": 3,
     "metadata": {},
     "output_type": "execute_result"
    }
   ],
   "source": [
    "df = match_list_to_df(train_matches)\n",
    "df.freeze_frame.iloc[0][:5]"
   ]
  },
  {
   "cell_type": "code",
   "execution_count": 9,
   "id": "b3775629",
   "metadata": {},
   "outputs": [],
   "source": [
    "block_function = uniform_block_score(max_distance=0.5)\n",
    "block_score = df.apply(\n",
    "    lambda row: 0 if row.freeze_frame is None else get_block_score(\n",
    "        Point(row.coordinates_x, row.coordinates_y), \n",
    "        row.freeze_frame, \n",
    "        block_function,\n",
    "        overlap_strategy=\"compound\"\n",
    "    ),\n",
    "    axis=1\n",
    ")"
   ]
  },
  {
   "cell_type": "code",
   "execution_count": 10,
   "id": "715adbd1",
   "metadata": {},
   "outputs": [],
   "source": [
    "is_blocked = []\n",
    "raw_events = []\n",
    "for match in train_matches:\n",
    "    blocked = [1 * (event.result.value == \"BLOCKED\") for event in match]\n",
    "    is_blocked += blocked\n",
    "    raw_events += [event.raw_event for event in match]"
   ]
  },
  {
   "cell_type": "code",
   "execution_count": 11,
   "id": "6fd10f29",
   "metadata": {},
   "outputs": [
    {
     "data": {
      "text/html": [
       "<div>\n",
       "<style scoped>\n",
       "    .dataframe tbody tr th:only-of-type {\n",
       "        vertical-align: middle;\n",
       "    }\n",
       "\n",
       "    .dataframe tbody tr th {\n",
       "        vertical-align: top;\n",
       "    }\n",
       "\n",
       "    .dataframe thead th {\n",
       "        text-align: right;\n",
       "    }\n",
       "</style>\n",
       "<table border=\"1\" class=\"dataframe\">\n",
       "  <thead>\n",
       "    <tr style=\"text-align: right;\">\n",
       "      <th></th>\n",
       "      <th>is_blocked</th>\n",
       "      <th>block_score</th>\n",
       "      <th>score_bins</th>\n",
       "    </tr>\n",
       "  </thead>\n",
       "  <tbody>\n",
       "    <tr>\n",
       "      <th>count</th>\n",
       "      <td>865.000000</td>\n",
       "      <td>865.000000</td>\n",
       "      <td>865.000000</td>\n",
       "    </tr>\n",
       "    <tr>\n",
       "      <th>mean</th>\n",
       "      <td>0.247399</td>\n",
       "      <td>0.358831</td>\n",
       "      <td>2.100578</td>\n",
       "    </tr>\n",
       "    <tr>\n",
       "      <th>std</th>\n",
       "      <td>0.431750</td>\n",
       "      <td>0.337299</td>\n",
       "      <td>2.168335</td>\n",
       "    </tr>\n",
       "    <tr>\n",
       "      <th>min</th>\n",
       "      <td>0.000000</td>\n",
       "      <td>0.000000</td>\n",
       "      <td>0.000000</td>\n",
       "    </tr>\n",
       "    <tr>\n",
       "      <th>25%</th>\n",
       "      <td>0.000000</td>\n",
       "      <td>0.000000</td>\n",
       "      <td>0.000000</td>\n",
       "    </tr>\n",
       "    <tr>\n",
       "      <th>50%</th>\n",
       "      <td>0.000000</td>\n",
       "      <td>0.323100</td>\n",
       "      <td>1.000000</td>\n",
       "    </tr>\n",
       "    <tr>\n",
       "      <th>75%</th>\n",
       "      <td>0.000000</td>\n",
       "      <td>0.649800</td>\n",
       "      <td>4.000000</td>\n",
       "    </tr>\n",
       "    <tr>\n",
       "      <th>max</th>\n",
       "      <td>1.000000</td>\n",
       "      <td>0.973170</td>\n",
       "      <td>6.000000</td>\n",
       "    </tr>\n",
       "  </tbody>\n",
       "</table>\n",
       "</div>"
      ],
      "text/plain": [
       "       is_blocked  block_score  score_bins\n",
       "count  865.000000   865.000000  865.000000\n",
       "mean     0.247399     0.358831    2.100578\n",
       "std      0.431750     0.337299    2.168335\n",
       "min      0.000000     0.000000    0.000000\n",
       "25%      0.000000     0.000000    0.000000\n",
       "50%      0.000000     0.323100    1.000000\n",
       "75%      0.000000     0.649800    4.000000\n",
       "max      1.000000     0.973170    6.000000"
      ]
     },
     "execution_count": 11,
     "metadata": {},
     "output_type": "execute_result"
    }
   ],
   "source": [
    "block_info = pd.DataFrame({\n",
    "    \"is_blocked\": is_blocked,\n",
    "    \"block_score\": block_score.values,\n",
    "    \"raw_event\": raw_events\n",
    "})\n",
    "block_info[\"score_bins\"] = pd.qcut(block_info[\"block_score\"], 10, labels=False, duplicates=\"drop\")\n",
    "block_info.describe()"
   ]
  },
  {
   "cell_type": "code",
   "execution_count": 12,
   "id": "c7efd8df",
   "metadata": {},
   "outputs": [
    {
     "data": {
      "text/html": [
       "<div>\n",
       "<style scoped>\n",
       "    .dataframe tbody tr th:only-of-type {\n",
       "        vertical-align: middle;\n",
       "    }\n",
       "\n",
       "    .dataframe tbody tr th {\n",
       "        vertical-align: top;\n",
       "    }\n",
       "\n",
       "    .dataframe thead th {\n",
       "        text-align: right;\n",
       "    }\n",
       "</style>\n",
       "<table border=\"1\" class=\"dataframe\">\n",
       "  <thead>\n",
       "    <tr style=\"text-align: right;\">\n",
       "      <th></th>\n",
       "      <th>num_shots</th>\n",
       "      <th>fraction_blocked</th>\n",
       "      <th>average_block_score</th>\n",
       "      <th>min_block_score</th>\n",
       "      <th>max_block_score</th>\n",
       "    </tr>\n",
       "    <tr>\n",
       "      <th>score_bins</th>\n",
       "      <th></th>\n",
       "      <th></th>\n",
       "      <th></th>\n",
       "      <th></th>\n",
       "      <th></th>\n",
       "    </tr>\n",
       "  </thead>\n",
       "  <tbody>\n",
       "    <tr>\n",
       "      <th>0</th>\n",
       "      <td>346</td>\n",
       "      <td>0.040462</td>\n",
       "      <td>0.011895</td>\n",
       "      <td>0.00000</td>\n",
       "      <td>0.12690</td>\n",
       "    </tr>\n",
       "    <tr>\n",
       "      <th>1</th>\n",
       "      <td>87</td>\n",
       "      <td>0.160920</td>\n",
       "      <td>0.241946</td>\n",
       "      <td>0.12780</td>\n",
       "      <td>0.32310</td>\n",
       "    </tr>\n",
       "    <tr>\n",
       "      <th>2</th>\n",
       "      <td>86</td>\n",
       "      <td>0.197674</td>\n",
       "      <td>0.395932</td>\n",
       "      <td>0.32580</td>\n",
       "      <td>0.47070</td>\n",
       "    </tr>\n",
       "    <tr>\n",
       "      <th>3</th>\n",
       "      <td>86</td>\n",
       "      <td>0.372093</td>\n",
       "      <td>0.530274</td>\n",
       "      <td>0.47070</td>\n",
       "      <td>0.59562</td>\n",
       "    </tr>\n",
       "    <tr>\n",
       "      <th>4</th>\n",
       "      <td>87</td>\n",
       "      <td>0.425287</td>\n",
       "      <td>0.650937</td>\n",
       "      <td>0.59580</td>\n",
       "      <td>0.70650</td>\n",
       "    </tr>\n",
       "    <tr>\n",
       "      <th>5</th>\n",
       "      <td>86</td>\n",
       "      <td>0.546512</td>\n",
       "      <td>0.806112</td>\n",
       "      <td>0.70821</td>\n",
       "      <td>0.89262</td>\n",
       "    </tr>\n",
       "    <tr>\n",
       "      <th>6</th>\n",
       "      <td>87</td>\n",
       "      <td>0.609195</td>\n",
       "      <td>0.915095</td>\n",
       "      <td>0.89370</td>\n",
       "      <td>0.97317</td>\n",
       "    </tr>\n",
       "  </tbody>\n",
       "</table>\n",
       "</div>"
      ],
      "text/plain": [
       "            num_shots  fraction_blocked  average_block_score  min_block_score  \\\n",
       "score_bins                                                                      \n",
       "0                 346          0.040462             0.011895          0.00000   \n",
       "1                  87          0.160920             0.241946          0.12780   \n",
       "2                  86          0.197674             0.395932          0.32580   \n",
       "3                  86          0.372093             0.530274          0.47070   \n",
       "4                  87          0.425287             0.650937          0.59580   \n",
       "5                  86          0.546512             0.806112          0.70821   \n",
       "6                  87          0.609195             0.915095          0.89370   \n",
       "\n",
       "            max_block_score  \n",
       "score_bins                   \n",
       "0                   0.12690  \n",
       "1                   0.32310  \n",
       "2                   0.47070  \n",
       "3                   0.59562  \n",
       "4                   0.70650  \n",
       "5                   0.89262  \n",
       "6                   0.97317  "
      ]
     },
     "execution_count": 12,
     "metadata": {},
     "output_type": "execute_result"
    }
   ],
   "source": [
    "block_lift_df = block_info.groupby(\"score_bins\").agg(\n",
    "    num_shots=(\"is_blocked\", \"size\"),\n",
    "    fraction_blocked=(\"is_blocked\", \"mean\"),\n",
    "    average_block_score=(\"block_score\", \"mean\"),\n",
    "    min_block_score=(\"block_score\", \"min\"),\n",
    "    max_block_score=(\"block_score\", \"max\")\n",
    ")\n",
    "block_lift_df"
   ]
  },
  {
   "cell_type": "code",
   "execution_count": 13,
   "id": "3f86d990",
   "metadata": {},
   "outputs": [
    {
     "data": {
      "text/plain": [
       "0.818715276282355"
      ]
     },
     "execution_count": 13,
     "metadata": {},
     "output_type": "execute_result"
    }
   ],
   "source": [
    "roc_auc_score(block_info[\"is_blocked\"], block_info[\"block_score\"])"
   ]
  },
  {
   "cell_type": "code",
   "execution_count": null,
   "id": "344d79fe",
   "metadata": {},
   "outputs": [],
   "source": [
    "block_info[block_info[\"is_blocked\"] == 0].sort_values(\"block_score\", ascending=False).head(15)"
   ]
  },
  {
   "cell_type": "code",
   "execution_count": null,
   "id": "c4e81a6b",
   "metadata": {},
   "outputs": [],
   "source": [
    "i = 235\n",
    "row = df.iloc[i]\n",
    "\n",
    "score = get_block_score(\n",
    "    Point(row.coordinates_x, row.coordinates_y),\n",
    "    row.freeze_frame,\n",
    "    block_function,\n",
    ")\n",
    "print(score)\n",
    "\n",
    "\n",
    "fig, ax = plt.subplots(1, 1, figsize=(10, 7))\n",
    "\n",
    "ax.plot([row.coordinates_x], [row.coordinates_y], color=\"blue\", marker=\"o\", ms=4)\n",
    "for player_data in row.freeze_frame:\n",
    "    color = \"green\"\n",
    "    if player_data[\"position\"][\"name\"] == \"Goalkeeper\":\n",
    "        color = \"orange\"\n",
    "    elif player_data[\"teammate\"] is False:\n",
    "        color = \"red\"\n",
    "    ax.plot([player_data[\"location\"][0]], [player_data[\"location\"][1]], color=color, marker=\"o\", ms=5)\n",
    "    \n",
    "ax.set_xlim(80, 120)\n",
    "ax.set_ylim(62, 18)"
   ]
  },
  {
   "cell_type": "code",
   "execution_count": null,
   "id": "31508cac",
   "metadata": {},
   "outputs": [],
   "source": [
    "block_info.iloc[i][\"raw_event\"]"
   ]
  },
  {
   "cell_type": "markdown",
   "id": "2dbfc0ad",
   "metadata": {},
   "source": [
    "## Unusual shots \n",
    "_(Note: minute markers refer to the minute that ticked over already, which is different from how time is normally discussed in soccer. Here, a block that occurred at 29 minutes and 30 seconds would be in the 29th minute, where normally it would be recorded as occurring in the 30th minute.)_\n",
    "\n",
    "### Blocked shots that shouldn't have been\n",
    "\n",
    "* iloc 245/722: A slower shot from a highly oblique angle is blocked by a player who is not in a blocking position when the shot is made but is in a blocking position by the time the ball gets to the goal. (US versus Netherlands, 74th minute; South Korea vs Ghana, 75th minute)\n",
    "* iloc 747: Similar to the above, this one is a chip around the goalie that moves slow enough for a defender to get back in time to clear (Ghana vs Uruguay, 22nd minute)\n",
    "\n",
    "For these shots, there is probably nothing that can be improved on based on these data. If there was player speed/direction data it might be possible to skew the blockable area calculation to account for that, but even then it's going to be very difficult to also account for whether or not the shot will be a slow one.\n",
    "\n",
    "* iloc 9: A defender is very close to the shooter and is able to block the shot, even though the position data indicates that they are out of position (Australia vs France, 36th minute)\n",
    "* iloc 682: There are several defenders right on the edge of the shot envelope, and the shot is from relatively far away. The shot ends up being basically right at one of the defenders who heads it down (Spain vs Japan, 79th minute)\n",
    "* iloc 536: A shot from distance, likely trying to be curled into the top corner, is blocked by a player covering the right side of the shot paths. Basically the shot may not have been quite on goal when it was fired but would have potentially curled in (Wales vs England, 23rd minute)\n",
    "* iloc 850: A shot from distance that was probably not going to be on target is blocked by a player not really standing in front of goal (Costa Rica vs Japan, 34th minute)\n",
    "* iloc 737: Similar to the above (Wales vs US, 60th minute)\n",
    "\n",
    "There may be ways to finesse the block score for these cases, e.g. raise the offset for players very close to the shooter or bump up the block score for cases where a shot is from far away and a defender is in front of the side of the net (ie covering an area that the long-range shooter must target in order to beat the goalkeeper from that distance). Or potentially extending the allowed shot angles when the shot is far from goal to account for the ball being curled or the shot being off-target.\n",
    "\n",
    "* iloc 149: Similar to 682 with a few potential defenders in the way. In this case, however, the shot is not so much blocked as it is deflected and actually ends up **in the goal**. \n",
    "\n",
    "This seems like a data error.\n",
    "\n",
    "### Unblocked shots that should have been blocked\n",
    "* iloc 33: Free kick, shot over the net (Brazil vs Cameroon, 33rd minute)\n",
    "* iloc 765: Free kick, shot saved (Ghana vs Uruguay, 99th minute)\n",
    "\n",
    "Need to make sure that shot type is included\n",
    "\n",
    "* iloc 482: Long shot with a bunch of defenders in the way, substantially off-target (Canada vs Croatia, 76th minute)\n",
    "\n",
    "Probably nothing that can be done here, the shot's likely to miss anyway\n",
    "\n",
    "* iloc 373: Jumping header off a corner gets over a bunch of nearby defenders\n",
    "\n",
    "Maybe need to account for body part == head, or use the 'aerial_won' parameters"
   ]
  },
  {
   "cell_type": "code",
   "execution_count": null,
   "id": "85fef3a6",
   "metadata": {},
   "outputs": [],
   "source": []
  }
 ],
 "metadata": {
  "kernelspec": {
   "display_name": "Python 3 (ipykernel)",
   "language": "python",
   "name": "python3"
  },
  "language_info": {
   "codemirror_mode": {
    "name": "ipython",
    "version": 3
   },
   "file_extension": ".py",
   "mimetype": "text/x-python",
   "name": "python",
   "nbconvert_exporter": "python",
   "pygments_lexer": "ipython3",
   "version": "3.10.12"
  }
 },
 "nbformat": 4,
 "nbformat_minor": 5
}
