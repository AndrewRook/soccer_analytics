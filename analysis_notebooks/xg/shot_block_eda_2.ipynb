{
 "cells": [
  {
   "cell_type": "code",
   "execution_count": 8,
   "id": "221b8a16",
   "metadata": {},
   "outputs": [],
   "source": [
    "import math\n",
    "import matplotlib.pyplot as plt\n",
    "import pandas as pd\n",
    "import numpy as np\n",
    "\n",
    "from kloppy.domain.models import Point\n",
    "from typing import Sequence, Union"
   ]
  },
  {
   "cell_type": "code",
   "execution_count": 2,
   "id": "2159ccc5",
   "metadata": {},
   "outputs": [
    {
     "data": {
      "text/plain": [
       "40"
      ]
     },
     "execution_count": 2,
     "metadata": {},
     "output_type": "execute_result"
    }
   ],
   "source": [
    "from sklearn.model_selection import train_test_split\n",
    "from soccer_analytics.data.statsbomb import load_competition_seasons\n",
    "from soccer_analytics.data_split import split_by_time\n",
    "from soccer_analytics.preprocessing import match_list_to_df\n",
    "matches = load_competition_seasons(\n",
    "    \"FIFA World Cup\", [\"2022\"], event_types=[\"shot\"]\n",
    ")\n",
    "train_test_matches, _ = split_by_time(matches, test_frac=0.2)\n",
    "train_matches, test_matches = train_test_split(\n",
    "    train_test_matches, test_size=0.2, random_state=235\n",
    ")\n",
    "len(train_matches)"
   ]
  },
  {
   "cell_type": "code",
   "execution_count": 7,
   "id": "1080f5b8",
   "metadata": {},
   "outputs": [
    {
     "data": {
      "text/plain": [
       "[{'location': [105.7, 38.8],\n",
       "  'player': {'id': 33572, 'name': 'Nathaniel Atkinson'},\n",
       "  'position': {'id': 2, 'name': 'Right Back'},\n",
       "  'teammate': False},\n",
       " {'location': [107.8, 32.9],\n",
       "  'player': {'id': 5481, 'name': 'Mathew Leckie'},\n",
       "  'position': {'id': 12, 'name': 'Right Midfield'},\n",
       "  'teammate': False},\n",
       " {'location': [107.1, 31.2],\n",
       "  'player': {'id': 33477, 'name': 'Riley McGree'},\n",
       "  'position': {'id': 15, 'name': 'Left Center Midfield'},\n",
       "  'teammate': False},\n",
       " {'location': [98.2, 46.6],\n",
       "  'player': {'id': 8346, 'name': 'Craig Goodwin'},\n",
       "  'position': {'id': 16, 'name': 'Left Midfield'},\n",
       "  'teammate': False},\n",
       " {'location': [113.4, 36.0],\n",
       "  'player': {'id': 5490, 'name': 'Jackson Irvine'},\n",
       "  'position': {'id': 13, 'name': 'Right Center Midfield'},\n",
       "  'teammate': False},\n",
       " {'location': [109.4, 35.6],\n",
       "  'player': {'id': 22293, 'name': 'Harry Souttar'},\n",
       "  'position': {'id': 3, 'name': 'Right Center Back'},\n",
       "  'teammate': False},\n",
       " {'location': [109.9, 41.6],\n",
       "  'player': {'id': 33495, 'name': 'Kye Rowles'},\n",
       "  'position': {'id': 5, 'name': 'Left Center Back'},\n",
       "  'teammate': False},\n",
       " {'location': [110.7, 38.9],\n",
       "  'player': {'id': 33492, 'name': 'Mitchell Thomas Duke'},\n",
       "  'position': {'id': 23, 'name': 'Center Forward'},\n",
       "  'teammate': False},\n",
       " {'location': [110.3, 42.4],\n",
       "  'player': {'id': 3281, 'name': 'Aaron Mooy'},\n",
       "  'position': {'id': 10, 'name': 'Center Defensive Midfield'},\n",
       "  'teammate': False},\n",
       " {'location': [110.6, 46.8],\n",
       "  'player': {'id': 5479, 'name': 'Aziz Eraltay Behich'},\n",
       "  'position': {'id': 6, 'name': 'Left Back'},\n",
       "  'teammate': False},\n",
       " {'location': [118.5, 40.4],\n",
       "  'player': {'id': 3240, 'name': 'Mathew Ryan'},\n",
       "  'position': {'id': 1, 'name': 'Goalkeeper'},\n",
       "  'teammate': False},\n",
       " {'location': [115.4, 35.6],\n",
       "  'player': {'id': 3604, 'name': 'Olivier Giroud'},\n",
       "  'position': {'id': 23, 'name': 'Center Forward'},\n",
       "  'teammate': True},\n",
       " {'location': [110.3, 43.0],\n",
       "  'player': {'id': 5476, 'name': 'Benjamin Pavard'},\n",
       "  'position': {'id': 2, 'name': 'Right Back'},\n",
       "  'teammate': True},\n",
       " {'location': [108.8, 21.9],\n",
       "  'player': {'id': 3026, 'name': 'Adrien Rabiot'},\n",
       "  'position': {'id': 11, 'name': 'Left Defensive Midfield'},\n",
       "  'teammate': True},\n",
       " {'location': [109.1, 7.5],\n",
       "  'player': {'id': 3009, 'name': 'Kylian Mbappé Lottin'},\n",
       "  'position': {'id': 21, 'name': 'Left Wing'},\n",
       "  'teammate': True},\n",
       " {'location': [93.8, 32.1],\n",
       "  'player': {'id': 5484, 'name': 'Lucas Hernández Pi'},\n",
       "  'position': {'id': 6, 'name': 'Left Back'},\n",
       "  'teammate': True},\n",
       " {'location': [86.0, 42.3],\n",
       "  'player': {'id': 8519, 'name': 'Dayotchanculle Upamecano'},\n",
       "  'position': {'id': 5, 'name': 'Left Center Back'},\n",
       "  'teammate': True},\n",
       " {'location': [109.4, 40.6],\n",
       "  'player': {'id': 11135, 'name': 'Ibrahima Konaté'},\n",
       "  'position': {'id': 3, 'name': 'Right Center Back'},\n",
       "  'teammate': True},\n",
       " {'location': [106.0, 39.7],\n",
       "  'player': {'id': 10481, 'name': 'Aurélien Djani Tchouaméni'},\n",
       "  'position': {'id': 9, 'name': 'Right Defensive Midfield'},\n",
       "  'teammate': True},\n",
       " {'location': [110.8, 50.1],\n",
       "  'player': {'id': 5487, 'name': 'Antoine Griezmann'},\n",
       "  'position': {'id': 19, 'name': 'Center Attacking Midfield'},\n",
       "  'teammate': True}]"
      ]
     },
     "execution_count": 7,
     "metadata": {},
     "output_type": "execute_result"
    }
   ],
   "source": [
    "df = match_list_to_df(train_matches)\n",
    "df.freeze_frame.iloc[0]"
   ]
  },
  {
   "cell_type": "code",
   "execution_count": null,
   "id": "3324dcb7",
   "metadata": {},
   "outputs": [],
   "source": [
    "\"\"\"\n",
    "For shot on goal:\n",
    "  1. Get all potential blockers\n",
    "  2. Generate y values linspaced across the goalmouth\n",
    "  3. For each potential blocker:\n",
    "     a. Get function that takes in goal position and maps to block %\n",
    "       -- can take in player data too, e.g. set all teammate block % lower\n",
    "     b. execute function across the y values, add to running list\n",
    "  4. Collapse list down to overall value\n",
    "  5. return overall value\n",
    "  \n",
    "\"\"\""
   ]
  },
  {
   "cell_type": "code",
   "execution_count": null,
   "id": "9e3dc923",
   "metadata": {},
   "outputs": [],
   "source": [
    "def map_goal_locations_to_distance_from_blocker(\n",
    "        shot_location: Point, \n",
    "        blocker_location: Point, \n",
    "        goal_x: float, \n",
    "        goal_y_values: np.array\n",
    "):\n",
    "    \"\"\"\n",
    "    Given an array of points along a goalmouth (or the entire end-line, really),\n",
    "    Identify how close to the line drawn between the shot location and the blocker\n",
    "    location is to the line between the shot location and each point on the goalmouth.\n",
    "    \n",
    "    The minimum distance occurs at the point perpendicular to the line drawn between the shot\n",
    "    location and the blocker location, so this problem collapses to identifying that distance.\n",
    "    \"\"\"\n",
    "    # First, if the blocker is not between the shot and the goal, return a null value:\n",
    "    if blocker_location.x <= shot_location.x:\n",
    "        return np.full_like(goal_y_values, np.nan)\n",
    "    # Assuming the blocker is in a position to potentiall impact the play, \n",
    "    # get the angle between the shot and the blocker compared to the horizontal axis:\n",
    "    shot_blocker_angle = math.atan2(\n",
    "        blocker_location.y - shot_location.y, \n",
    "        blocker_location.x - shot_location.x\n",
    "    )\n",
    "    # The distance between the shot and the blocker\n",
    "    shot_blocker_distance = math.sqrt(\n",
    "        (blocker_location.y - shot_location.y) ** 2\n",
    "        + (blocker_location.x - shot_location.x) ** 2\n",
    "    )\n",
    "    # Get the differences in y and x values between the shot location and the goalline:\n",
    "    x_diff = goal_x - shot_location.x\n",
    "    y_diff = goal_y_values - shot_location.y\n",
    "    \n",
    "    # The min distance is the tangent between the incremental angle of the y_value on the\n",
    "    # goalline above the shot/blocker angle, multiplied by the distance between the shot and\n",
    "    # the blocker:\n",
    "    min_distances = shot_blocker_distance * math.tan(math.atan2(y_diff, x_diff) - shot_blocker_angle)\n",
    "    return min_distances\n",
    "    "
   ]
  },
  {
   "cell_type": "code",
   "execution_count": null,
   "id": "9f752126",
   "metadata": {},
   "outputs": [],
   "source": [
    "def get_block_likelihood(\n",
    "        shot_location: Point, \n",
    "        blocker_info: list[dict[str, Union[list, dict, str]]], \n",
    "        block_function, \n",
    "        goal_x=120., \n",
    "        goal_ys=(36, 44), \n",
    "        num_test_points=1000\n",
    "    ):\n",
    "    goal_y_values = np.linspace(*goal_ys, num_test_points)\n",
    "    y_block_likelihoods_per_player = np.zeros((test_y_values, len(blocker_info)))\n",
    "    for i, blocker in enumerate(blocker_info):\n",
    "        blocker_distances = map_goal_locations_to_distance_from_blocker(\n",
    "            shot_location, blocker[\"location\"], goal_x, goal_y_values\n",
    "        )\n",
    "        y_block_likelihoods_per_player[:, i] = block_function(blocker_distances, shot_location, blocker, goal_x)\n",
    "        \n",
    "    no_block_likelihoods_per_player = 1 - y_block_likelihoods_per_player\n",
    "    no_block_likelihoods = np.multiply.reduce(\n",
    "        no_block_likelihoods_per_player,\n",
    "        axis=1\n",
    "    )\n",
    "    return 1 - no_block_likelihoods.mean()\n",
    "    "
   ]
  },
  {
   "cell_type": "code",
   "execution_count": null,
   "id": "98a531d2",
   "metadata": {},
   "outputs": [],
   "source": []
  },
  {
   "cell_type": "code",
   "execution_count": null,
   "id": "43a9522a",
   "metadata": {},
   "outputs": [],
   "source": []
  },
  {
   "cell_type": "code",
   "execution_count": null,
   "id": "e2ce94ef",
   "metadata": {},
   "outputs": [],
   "source": []
  },
  {
   "cell_type": "code",
   "execution_count": null,
   "id": "33302607",
   "metadata": {},
   "outputs": [],
   "source": [
    "def map_block_locations(\n",
    "        shot_location: Point, blocker_location: Point, offset: float,\n",
    "        goal_x: float = 120.\n",
    "):\n",
    "    shot_blocker_angle = math.atan2(\n",
    "        blocker_location.y - shot_location.y, \n",
    "        blocker_location.x - shot_location.x\n",
    "    )\n",
    "    offset_x = -offset * math.sin(shot_blocker_angle)\n",
    "    offset_y = offset * math.cos(shot_blocker_angle)\n",
    "    offset_angle = math.atan2(\n",
    "        offset_y - shot_location.y,\n",
    "        offset_x - shot_location.x\n",
    "    )\n",
    "    offset_y_at_goal = shot_location.y + goal_x * math.tan(offset_angle)\n",
    "    return offset_y_at_goal\n",
    "    "
   ]
  },
  {
   "cell_type": "code",
   "execution_count": null,
   "id": "43996fc0",
   "metadata": {},
   "outputs": [],
   "source": [
    "test = np.arange(10).reshape(5, -1)\n",
    "test"
   ]
  },
  {
   "cell_type": "code",
   "execution_count": null,
   "id": "a0379aa8",
   "metadata": {},
   "outputs": [],
   "source": [
    "np.multiply.reduce(test, axis=1).mean()"
   ]
  },
  {
   "cell_type": "code",
   "execution_count": null,
   "id": "f86e15b1",
   "metadata": {},
   "outputs": [],
   "source": []
  }
 ],
 "metadata": {
  "kernelspec": {
   "display_name": "Python 3 (ipykernel)",
   "language": "python",
   "name": "python3"
  },
  "language_info": {
   "codemirror_mode": {
    "name": "ipython",
    "version": 3
   },
   "file_extension": ".py",
   "mimetype": "text/x-python",
   "name": "python",
   "nbconvert_exporter": "python",
   "pygments_lexer": "ipython3",
   "version": "3.10.12"
  }
 },
 "nbformat": 4,
 "nbformat_minor": 5
}
