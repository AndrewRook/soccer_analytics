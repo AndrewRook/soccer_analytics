{
 "cells": [
  {
   "cell_type": "code",
   "execution_count": 1,
   "id": "221b8a16",
   "metadata": {},
   "outputs": [],
   "source": [
    "import math\n",
    "import matplotlib.pyplot as plt\n",
    "import pandas as pd\n",
    "import numpy as np\n",
    "\n",
    "from kloppy.domain.models import Point\n",
    "from typing import Callable, Sequence, Union"
   ]
  },
  {
   "cell_type": "code",
   "execution_count": 2,
   "id": "98883414",
   "metadata": {},
   "outputs": [
    {
     "data": {
      "text/plain": [
       "40"
      ]
     },
     "execution_count": 2,
     "metadata": {},
     "output_type": "execute_result"
    }
   ],
   "source": [
    "from sklearn.model_selection import train_test_split\n",
    "from soccer_analytics.data.statsbomb import load_competition_seasons\n",
    "from soccer_analytics.data_split import split_by_time\n",
    "from soccer_analytics.preprocessing import match_list_to_df\n",
    "matches = load_competition_seasons(\n",
    "    \"FIFA World Cup\", [\"2022\"], event_types=[\"shot\"]\n",
    ")\n",
    "train_test_matches, _ = split_by_time(matches, test_frac=0.2)\n",
    "train_matches, test_matches = train_test_split(\n",
    "    train_test_matches, test_size=0.2, random_state=235\n",
    ")\n",
    "len(train_matches)"
   ]
  },
  {
   "cell_type": "code",
   "execution_count": 3,
   "id": "38af4b45",
   "metadata": {},
   "outputs": [
    {
     "data": {
      "text/plain": [
       "[{'location': [105.7, 38.8],\n",
       "  'player': {'id': 33572, 'name': 'Nathaniel Atkinson'},\n",
       "  'position': {'id': 2, 'name': 'Right Back'},\n",
       "  'teammate': False},\n",
       " {'location': [107.8, 32.9],\n",
       "  'player': {'id': 5481, 'name': 'Mathew Leckie'},\n",
       "  'position': {'id': 12, 'name': 'Right Midfield'},\n",
       "  'teammate': False},\n",
       " {'location': [107.1, 31.2],\n",
       "  'player': {'id': 33477, 'name': 'Riley McGree'},\n",
       "  'position': {'id': 15, 'name': 'Left Center Midfield'},\n",
       "  'teammate': False},\n",
       " {'location': [98.2, 46.6],\n",
       "  'player': {'id': 8346, 'name': 'Craig Goodwin'},\n",
       "  'position': {'id': 16, 'name': 'Left Midfield'},\n",
       "  'teammate': False},\n",
       " {'location': [113.4, 36.0],\n",
       "  'player': {'id': 5490, 'name': 'Jackson Irvine'},\n",
       "  'position': {'id': 13, 'name': 'Right Center Midfield'},\n",
       "  'teammate': False}]"
      ]
     },
     "execution_count": 3,
     "metadata": {},
     "output_type": "execute_result"
    }
   ],
   "source": [
    "df = match_list_to_df(train_matches)\n",
    "df.freeze_frame.iloc[0][:5]"
   ]
  },
  {
   "cell_type": "code",
   "execution_count": 4,
   "id": "29193a88",
   "metadata": {},
   "outputs": [
    {
     "data": {
      "text/plain": [
       "'\\nFor shot on goal:\\n  1. Get all potential blockers\\n  2. Generate y values linspaced across the goalmouth\\n  3. For each potential blocker:\\n     a. Get function that takes in goal position and maps to block %\\n       -- can take in player data too, e.g. set all teammate block % lower\\n     b. execute function across the y values, add to running list\\n  4. Collapse list down to overall value\\n  5. return overall value\\n  \\n'"
      ]
     },
     "execution_count": 4,
     "metadata": {},
     "output_type": "execute_result"
    }
   ],
   "source": [
    "\"\"\"\n",
    "For shot on goal:\n",
    "  1. Get all potential blockers\n",
    "  2. Generate y values linspaced across the goalmouth\n",
    "  3. For each potential blocker:\n",
    "     a. Get function that takes in goal position and maps to block %\n",
    "       -- can take in player data too, e.g. set all teammate block % lower\n",
    "     b. execute function across the y values, add to running list\n",
    "  4. Collapse list down to overall value\n",
    "  5. return overall value\n",
    "  \n",
    "\"\"\""
   ]
  },
  {
   "cell_type": "code",
   "execution_count": 18,
   "id": "c625d441",
   "metadata": {},
   "outputs": [],
   "source": [
    "def map_goal_locations_to_distance_from_blocker(\n",
    "        shot_location: Point, \n",
    "        blocker_location: Point, \n",
    "        goal_x: float, \n",
    "        goal_y_values: np.array\n",
    "):\n",
    "    \"\"\"\n",
    "    Given an array of points along a goalmouth (or the entire end-line, really),\n",
    "    Identify how close to the line drawn between the shot location and the blocker\n",
    "    location is to the line between the shot location and each point on the goalmouth.\n",
    "    \n",
    "    The minimum distance occurs at the point perpendicular to the line drawn between the shot\n",
    "    location and the blocker location, so this problem collapses to identifying that distance.\n",
    "    \"\"\"\n",
    "    # First, if the blocker is not between the shot and the goal, return a null value:\n",
    "    if blocker_location.x <= shot_location.x:\n",
    "        return np.full_like(goal_y_values, np.nan)\n",
    "    # Assuming the blocker is in a position to potentiall impact the play, \n",
    "    # get the angle between the shot and the blocker compared to the horizontal axis:\n",
    "    shot_blocker_angle = math.atan2(\n",
    "        blocker_location.y - shot_location.y, \n",
    "        blocker_location.x - shot_location.x\n",
    "    )\n",
    "    # The distance between the shot and the blocker\n",
    "    shot_blocker_distance = math.sqrt(\n",
    "        (blocker_location.y - shot_location.y) ** 2\n",
    "        + (blocker_location.x - shot_location.x) ** 2\n",
    "    )\n",
    "    # Get the differences in y and x values between the shot location and the goalline:\n",
    "    x_diff = goal_x - shot_location.x\n",
    "    y_diff = goal_y_values - shot_location.y\n",
    "    \n",
    "    # The min distance is the tangent between the incremental angle of the y_value on the\n",
    "    # goalline above the shot/blocker angle, multiplied by the distance between the shot and\n",
    "    # the blocker:\n",
    "    min_distances = shot_blocker_distance * np.tan(np.arctan2(y_diff, x_diff) - shot_blocker_angle)\n",
    "    return min_distances\n",
    "    "
   ]
  },
  {
   "cell_type": "code",
   "execution_count": 42,
   "id": "9dd52f49",
   "metadata": {},
   "outputs": [],
   "source": [
    "def get_block_likelihood(\n",
    "        shot_location: Point, \n",
    "        blocker_info: list[dict[str, Union[list, dict, str]]], \n",
    "        block_function: Callable, \n",
    "        goal_x=120., \n",
    "        goal_ys=(36, 44), \n",
    "        num_test_points=1000\n",
    "    ):\n",
    "    goal_y_values = np.linspace(*goal_ys, num_test_points)\n",
    "    y_block_likelihoods_per_player = np.zeros((num_test_points, len(blocker_info)))\n",
    "    for i, blocker in enumerate(blocker_info):\n",
    "        blocker_distances = map_goal_locations_to_distance_from_blocker(\n",
    "            shot_location, Point(*blocker[\"location\"]), goal_x, goal_y_values\n",
    "        )\n",
    "        y_block_likelihoods_per_player[:, i] = block_function(\n",
    "            blocker_distances, shot_location, blocker, goal_x\n",
    "        )\n",
    "        \n",
    "    no_block_likelihoods_per_player = 1 - y_block_likelihoods_per_player\n",
    "    no_block_likelihoods = np.multiply.reduce(\n",
    "        no_block_likelihoods_per_player,\n",
    "        axis=1\n",
    "    )\n",
    "    return no_block_likelihoods_per_player\n",
    "    #print(no_block_likelihoods)\n",
    "    return y_block_likelihoods_per_player\n",
    "    return 1 - no_block_likelihoods.mean()\n",
    "    \n",
    "    \n",
    "def uniform_block_function(block_likelihood=0.9, max_distance=0.5):\n",
    "    def inner(blocker_distances, shot_location, blocker, goal_x):\n",
    "        likelihood = np.where(blocker_distances < max_distance, block_likelihood, 0)\n",
    "        return likelihood\n",
    "    return inner\n",
    "\n"
   ]
  },
  {
   "cell_type": "code",
   "execution_count": 56,
   "id": "b23863ac",
   "metadata": {},
   "outputs": [
    {
     "data": {
      "text/plain": [
       "(1000, 20)"
      ]
     },
     "execution_count": 56,
     "metadata": {},
     "output_type": "execute_result"
    }
   ],
   "source": [
    "def block_calculation_function(block_function):\n",
    "    def inner(row):\n",
    "        if row.freeze_frame is None:\n",
    "            return 0\n",
    "        return get_block_likelihood(\n",
    "            Point(row.coordinates_x, row.coordinates_y),\n",
    "            row.freeze_frame,\n",
    "            block_function\n",
    "        )\n",
    "    return inner\n",
    "woo = df.head(1).apply(block_calculation_function(uniform_block_function()), axis=1)[0]\n",
    "woo.shape"
   ]
  },
  {
   "cell_type": "code",
   "execution_count": 60,
   "id": "fca36c3f",
   "metadata": {},
   "outputs": [
    {
     "data": {
      "text/plain": [
       "array([12.8, 12.8, 12.8, 12.8, 12.8, 12.8, 12.8, 12.8, 12.8, 12.8, 12.8,\n",
       "       12.8, 12.8, 12.8, 12.8, 12.8, 12.8, 12.8, 12.8, 12.8, 12.8, 12.8,\n",
       "       12.8, 12.8, 12.8, 12.8, 12.8, 12.8, 12.8, 12.8, 12.8, 12.8, 12.8,\n",
       "       12.8, 12.8, 12.8, 12.8, 12.8, 12.8, 13.7, 13.7, 13.7, 13.7, 13.7,\n",
       "       13.7, 13.7, 13.7, 13.7, 13.7, 13.7, 13.7, 13.7, 13.7, 13.7, 13.7,\n",
       "       13.7, 13.7, 13.7, 13.7, 13.7, 13.7, 13.7, 13.7, 13.7, 13.7, 13.7,\n",
       "       13.7, 13.7, 13.7, 13.7, 13.7, 13.7, 13.7, 13.7, 13.7, 13.7, 13.7,\n",
       "       13.7, 13.7, 13.7, 13.7, 13.7, 13.7, 13.7, 13.7, 13.7, 13.7, 13.7,\n",
       "       13.7, 13.7, 13.7, 13.7, 13.7, 13.7, 13.7, 13.7, 13.7, 13.7, 13.7,\n",
       "       13.7, 13.7, 13.7, 13.7, 13.7, 13.7, 13.7, 13.7, 13.7, 13.7, 13.7,\n",
       "       13.7, 13.7, 13.7, 13.7, 13.7, 13.7, 13.7, 13.7, 13.7, 13.7, 13.7,\n",
       "       13.7, 13.7, 13.7, 13.7, 13.7, 13.7, 13.7, 13.7, 13.7, 13.7, 13.7,\n",
       "       13.7, 13.7, 13.7, 13.7, 13.7, 13.7, 13.7, 13.7, 13.7, 13.7, 13.7,\n",
       "       13.7, 13.7, 13.7, 13.7, 13.7, 13.7, 13.7, 13.7, 13.7, 13.7, 13.7,\n",
       "       13.7, 13.7, 13.7, 13.7, 13.7, 13.7, 13.7, 13.7, 13.7, 13.7, 13.7,\n",
       "       13.7, 13.7, 13.7, 13.7, 13.7, 13.7, 13.7, 13.7, 13.7, 13.7, 13.7,\n",
       "       13.7, 13.7, 13.7, 13.7, 13.7, 13.7, 13.7, 13.7, 13.7, 13.7, 13.7,\n",
       "       13.7, 13.7, 13.7, 13.7, 13.7, 13.7, 13.7, 13.7, 13.7, 13.7, 13.7,\n",
       "       13.7, 13.7, 13.7, 13.7, 13.7, 13.7, 13.7, 13.7, 13.7, 13.7, 13.7,\n",
       "       13.7, 13.7, 13.7, 13.7, 13.7, 13.7, 13.7, 13.7, 13.7, 13.7, 13.7,\n",
       "       13.7, 13.7, 13.7, 13.7, 13.7, 13.7, 13.7, 13.7, 13.7, 13.7, 13.7,\n",
       "       13.7, 13.7, 13.7, 13.7, 13.7, 13.7, 13.7, 13.7, 13.7, 13.7, 13.7,\n",
       "       13.7, 13.7, 13.7, 13.7, 13.7, 13.7, 13.7, 13.7, 13.7, 13.7, 13.7,\n",
       "       13.7, 13.7, 13.7, 13.7, 13.7, 13.7, 13.7, 13.7, 13.7, 13.7, 13.7,\n",
       "       13.7, 13.7, 13.7, 13.7, 13.7, 13.7, 13.7, 13.7, 13.7, 13.7, 13.7,\n",
       "       13.7, 13.7, 13.7, 13.7, 13.7, 13.7, 13.7, 13.7, 13.7, 13.7, 13.7,\n",
       "       13.7, 13.7, 13.7, 13.7, 13.7, 13.7, 13.7, 14.6, 14.6, 14.6, 14.6,\n",
       "       14.6, 14.6, 14.6, 14.6, 14.6, 14.6, 14.6, 14.6, 14.6, 14.6, 14.6,\n",
       "       14.6, 14.6, 14.6, 14.6, 14.6, 14.6, 14.6, 14.6, 14.6, 14.6, 14.6,\n",
       "       14.6, 14.6, 14.6, 14.6, 14.6, 14.6, 14.6, 14.6, 14.6, 14.6, 14.6,\n",
       "       14.6, 14.6, 14.6, 14.6, 14.6, 14.6, 14.6, 14.6, 14.6, 14.6, 14.6,\n",
       "       14.6, 14.6, 14.6, 14.6, 14.6, 14.6, 14.6, 14.6, 14.6, 14.6, 14.6,\n",
       "       14.6, 14.6, 14.6, 14.6, 14.6, 14.6, 14.6, 14.6, 14.6, 14.6, 14.6,\n",
       "       14.6, 14.6, 14.6, 14.6, 14.6, 14.6, 14.6, 14.6, 14.6, 14.6, 14.6,\n",
       "       14.6, 14.6, 14.6, 14.6, 14.6, 14.6, 14.6, 14.6, 14.6, 14.6, 14.6,\n",
       "       14.6, 14.6, 14.6, 14.6, 14.6, 14.6, 14.6, 14.6, 14.6, 14.6, 14.6,\n",
       "       14.6, 14.6, 14.6, 14.6, 14.6, 14.6, 14.6, 14.6, 14.6, 14.6, 14.6,\n",
       "       14.6, 14.6, 14.6, 14.6, 14.6, 14.6, 14.6, 14.6, 14.6, 14.6, 14.6,\n",
       "       14.6, 14.6, 14.6, 14.6, 14.6, 14.6, 14.6, 14.6, 14.6, 14.6, 14.6,\n",
       "       14.6, 14.6, 14.6, 14.6, 14.6, 14.6, 14.6, 14.6, 14.6, 14.6, 14.6,\n",
       "       14.6, 14.6, 14.6, 14.6, 14.6, 14.6, 14.6, 14.6, 14.6, 14.6, 14.6,\n",
       "       14.6, 14.6, 14.6, 14.6, 14.6, 14.6, 14.6, 14.6, 14.6, 14.6, 14.6,\n",
       "       14.6, 14.6, 14.6, 14.6, 14.6, 14.6, 14.6, 14.6, 14.6, 14.6, 14.6,\n",
       "       14.6, 14.6, 14.6, 14.6, 14.6, 14.6, 14.6, 14.6, 14.6, 14.6, 14.6,\n",
       "       15.5, 15.5, 15.5, 15.5, 15.5, 15.5, 15.5, 15.5, 15.5, 15.5, 15.5,\n",
       "       15.5, 15.5, 15.5, 15.5, 15.5, 15.5, 15.5, 15.5, 15.5, 15.5, 15.5,\n",
       "       15.5, 15.5, 15.5, 15.5, 15.5, 15.5, 15.5, 15.5, 15.5, 15.5, 15.5,\n",
       "       15.5, 15.5, 15.5, 15.5, 15.5, 15.5, 15.5, 15.5, 15.5, 15.5, 15.5,\n",
       "       15.5, 15.5, 15.5, 15.5, 15.5, 15.5, 15.5, 15.5, 15.5, 15.5, 15.5,\n",
       "       15.5, 15.5, 15.5, 15.5, 15.5, 15.5, 15.5, 15.5, 15.5, 15.5, 15.5,\n",
       "       15.5, 15.5, 15.5, 15.5, 15.5, 15.5, 15.5, 15.5, 15.5, 15.5, 15.5,\n",
       "       16.4, 16.4, 16.4, 16.4, 16.4, 16.4, 16.4, 16.4, 16.4, 16.4, 16.4,\n",
       "       16.4, 16.4, 16.4, 16.4, 16.4, 16.4, 16.4, 16.4, 16.4, 16.4, 16.4,\n",
       "       16.4, 16.4, 16.4, 16.4, 16.4, 16.4, 16.4, 16.4, 16.4, 16.4, 16.4,\n",
       "       16.4, 16.4, 16.4, 16.4, 16.4, 16.4, 16.4, 16.4, 16.4, 16.4, 16.4,\n",
       "       17.3, 17.3, 17.3, 17.3, 17.3, 17.3, 17.3, 17.3, 17.3, 17.3, 17.3,\n",
       "       17.3, 17.3, 17.3, 17.3, 17.3, 17.3, 17.3, 17.3, 17.3, 17.3, 17.3,\n",
       "       17.3, 17.3, 17.3, 17.3, 17.3, 17.3, 17.3, 17.3, 17.3, 17.3, 17.3,\n",
       "       17.3, 17.3, 17.3, 17.3, 17.3, 17.3, 17.3, 17.3, 17.3, 17.3, 17.3,\n",
       "       17.3, 17.3, 17.3, 17.3, 17.3, 17.3, 17.3, 17.3, 17.3, 17.3, 17.3,\n",
       "       17.3, 17.3, 17.3, 17.3, 17.3, 17.3, 17.3, 17.3, 17.3, 17.3, 17.3,\n",
       "       17.3, 17.3, 17.3, 17.3, 17.3, 17.3, 17.3, 17.3, 17.3, 17.3, 17.3,\n",
       "       17.3, 17.3, 17.3, 17.3, 17.3, 17.3, 17.3, 17.3, 17.3, 17.3, 17.3,\n",
       "       17.3, 17.3, 17.3, 17.3, 17.3, 17.3, 17.3, 17.3, 17.3, 17.3, 17.3,\n",
       "       17.3, 17.3, 17.3, 17.3, 17.3, 17.3, 17.3, 17.3, 17.3, 17.3, 17.3,\n",
       "       17.3, 17.3, 17.3, 17.3, 17.3, 17.3, 17.3, 17.3, 17.3, 17.3, 17.3,\n",
       "       17.3, 17.3, 17.3, 17.3, 17.3, 17.3, 17.3, 17.3, 17.3, 17.3, 17.3,\n",
       "       17.3, 17.3, 17.3, 17.3, 17.3, 17.3, 17.3, 17.3, 17.3, 17.3, 17.3,\n",
       "       17.3, 17.3, 17.3, 17.3, 17.3, 17.3, 17.3, 17.3, 17.3, 17.3, 17.3,\n",
       "       17.3, 17.3, 17.3, 17.3, 17.3, 17.3, 17.3, 17.3, 17.3, 17.3, 17.3,\n",
       "       17.3, 17.3, 17.3, 17.3, 17.3, 17.3, 17.3, 17.3, 17.3, 17.3, 17.3,\n",
       "       17.3, 17.3, 17.3, 17.3, 17.3, 17.3, 17.3, 17.3, 17.3, 17.3, 17.3,\n",
       "       17.3, 17.3, 17.3, 17.3, 17.3, 17.3, 17.3, 17.3, 17.3, 17.3, 17.3,\n",
       "       17.3, 17.3, 17.3, 17.3, 17.3, 17.3, 17.3, 17.3, 17.3, 17.3, 17.3,\n",
       "       17.3, 17.3, 17.3, 17.3, 17.3, 17.3, 17.3, 17.3, 17.3, 17.3, 17.3,\n",
       "       17.3, 17.3, 17.3, 17.3, 17.3, 17.3, 17.3, 17.3, 17.3, 17.3, 17.3,\n",
       "       17.3, 17.3, 17.3, 17.3, 17.3, 17.3, 17.3, 17.3, 17.3, 17.3, 18.2,\n",
       "       18.2, 18.2, 18.2, 18.2, 18.2, 18.2, 18.2, 18.2, 18.2, 18.2, 18.2,\n",
       "       18.2, 18.2, 18.2, 18.2, 18.2, 18.2, 18.2, 18.2, 18.2, 18.2, 18.2,\n",
       "       18.2, 18.2, 18.2, 18.2, 18.2, 18.2, 18.2, 18.2, 18.2, 18.2, 18.2,\n",
       "       18.2, 18.2, 18.2, 18.2, 18.2, 18.2, 18.2, 18.2, 18.2, 18.2, 18.2,\n",
       "       18.2, 18.2, 18.2, 18.2, 18.2, 18.2, 18.2, 18.2, 18.2, 18.2, 18.2,\n",
       "       18.2, 18.2, 18.2, 18.2, 18.2, 18.2, 18.2, 18.2, 18.2, 18.2, 18.2,\n",
       "       18.2, 18.2, 18.2, 18.2, 18.2, 18.2, 18.2, 18.2, 18.2, 18.2, 18.2,\n",
       "       18.2, 18.2, 18.2, 18.2, 18.2, 18.2, 18.2, 18.2, 18.2, 18.2, 18.2,\n",
       "       18.2, 18.2, 18.2, 18.2, 18.2, 18.2, 18.2, 18.2, 18.2, 18.2, 18.2,\n",
       "       18.2, 18.2, 18.2, 18.2, 18.2, 18.2, 18.2, 18.2, 18.2, 18.2, 18.2,\n",
       "       18.2, 18.2, 18.2, 18.2, 18.2, 18.2, 18.2, 18.2, 18.2, 18.2, 18.2,\n",
       "       18.2, 18.2, 18.2, 18.2, 18.2, 18.2, 18.2, 18.2, 18.2, 18.2, 18.2,\n",
       "       18.2, 18.2, 18.2, 18.2, 18.2, 18.2, 18.2, 18.2, 18.2, 18.2, 18.2,\n",
       "       18.2, 18.2, 18.2, 18.2, 18.2, 18.2, 18.2, 18.2, 18.2, 18.2])"
      ]
     },
     "execution_count": 60,
     "metadata": {},
     "output_type": "execute_result"
    }
   ],
   "source": [
    "woo.sum(axis=1)"
   ]
  },
  {
   "cell_type": "code",
   "execution_count": 55,
   "id": "db2507b0",
   "metadata": {},
   "outputs": [
    {
     "data": {
      "image/png": "[encoded data removed]",
      "text/plain": [
       "<Figure size 1000x700 with 1 Axes>"
      ]
     },
     "metadata": {},
     "output_type": "display_data"
    }
   ],
   "source": [
    "import math\n",
    "def generate_player_intercepts(player_location: Point, shot_location: Point, offset: float):\n",
    "    theta = math.atan2(shot_location.y - player_location.y, shot_location.x - player_location.x)\n",
    "    # Rotation matrix\n",
    "    offset_x = -offset * math.sin(theta)\n",
    "    offset_y = offset * math.cos(theta)\n",
    "    intercept_1 = Point(player_location.x + offset_x, player_location.y + offset_y)\n",
    "    intercept_2 = Point(player_location.x - offset_x, player_location.y - offset_y)\n",
    "    return intercept_1, intercept_2\n",
    "\n",
    "\n",
    "row = df.iloc[0]\n",
    "fig, ax = plt.subplots(1, 1, figsize=(10, 7))\n",
    "\n",
    "ax.plot([row.coordinates_x], [row.coordinates_y], color=\"red\", marker=\"o\", ms=4)\n",
    "for player_data in row.freeze_frame:\n",
    "    intercept_1, intercept_2 = generate_player_intercepts(\n",
    "        Point(*player_data[\"location\"]), Point(row.coordinates_x, row.coordinates_y), 0.5\n",
    "    )\n",
    "    ax.plot([player_data[\"location\"][0]], [player_data[\"location\"][1]], color=\"blue\", marker=\"o\", ms=5)\n",
    "    ax.plot([intercept_1.x, intercept_2.x], [intercept_1.y, intercept_2.y], color=\"blue\")"
   ]
  },
  {
   "cell_type": "code",
   "execution_count": null,
   "id": "2243b901",
   "metadata": {},
   "outputs": [],
   "source": [
    "def map_block_locations(\n",
    "        shot_location: Point, blocker_location: Point, offset: float,\n",
    "        goal_x: float = 120.\n",
    "):\n",
    "    shot_blocker_angle = math.atan2(\n",
    "        blocker_location.y - shot_location.y, \n",
    "        blocker_location.x - shot_location.x\n",
    "    )\n",
    "    offset_x = -offset * math.sin(shot_blocker_angle)\n",
    "    offset_y = offset * math.cos(shot_blocker_angle)\n",
    "    offset_angle = math.atan2(\n",
    "        offset_y - shot_location.y,\n",
    "        offset_x - shot_location.x\n",
    "    )\n",
    "    offset_y_at_goal = shot_location.y + goal_x * math.tan(offset_angle)\n",
    "    return offset_y_at_goal\n",
    "    "
   ]
  },
  {
   "cell_type": "code",
   "execution_count": null,
   "id": "efaf0721",
   "metadata": {},
   "outputs": [],
   "source": [
    "df.head()"
   ]
  },
  {
   "cell_type": "code",
   "execution_count": null,
   "id": "b7897008",
   "metadata": {},
   "outputs": [],
   "source": []
  }
 ],
 "metadata": {
  "kernelspec": {
   "display_name": "Python 3 (ipykernel)",
   "language": "python",
   "name": "python3"
  },
  "language_info": {
   "codemirror_mode": {
    "name": "ipython",
    "version": 3
   },
   "file_extension": ".py",
   "mimetype": "text/x-python",
   "name": "python",
   "nbconvert_exporter": "python",
   "pygments_lexer": "ipython3",
   "version": "3.10.12"
  }
 },
 "nbformat": 4,
 "nbformat_minor": 5
}
