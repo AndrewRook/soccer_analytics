{
 "cells": [
  {
   "cell_type": "markdown",
   "id": "301da5b2",
   "metadata": {},
   "source": [
    "Baseline expected goals is just the overall scoring percentage."
   ]
  },
  {
   "cell_type": "code",
   "execution_count": 1,
   "id": "a612165d",
   "metadata": {},
   "outputs": [],
   "source": [
    "import pathlib\n",
    "import requests\n",
    "\n",
    "from dataclasses import dataclass\n",
    "import json\n",
    "from kloppy import statsbomb\n",
    "from kloppy.domain import EventFactory, create_event, ShotEvent\n",
    "\n",
    "\n",
    "from soccer_analytics.data.statsbomb import get_metadata"
   ]
  },
  {
   "cell_type": "code",
   "execution_count": 2,
   "id": "45bb0f32",
   "metadata": {},
   "outputs": [],
   "source": [
    "@dataclass(repr=False)\n",
    "class StatsBombShotEvent(ShotEvent):\n",
    "    statsbomb_xg: float = None\n",
    "    is_penalty: bool = False\n",
    "    \n",
    "    \n",
    "class StatsBombEventFactory(EventFactory):\n",
    "    def build_shot(self, **kwargs) -> ShotEvent:\n",
    "        kwargs['statsbomb_xg'] = kwargs['raw_event']['shot']['statsbomb_xg']\n",
    "        kwargs['is_penalty'] = kwargs[\"raw_event\"][\"shot\"][\"type\"][\"name\"] == \"Penalty\"\n",
    "        return create_event(StatsBombShotEvent, **kwargs)\n",
    "       \n",
    "        \n",
    "event_factory = StatsBombEventFactory()"
   ]
  },
  {
   "cell_type": "code",
   "execution_count": 3,
   "id": "0e68c945",
   "metadata": {},
   "outputs": [],
   "source": [
    "competitions = get_metadata()"
   ]
  },
  {
   "cell_type": "code",
   "execution_count": 6,
   "id": "b2df64ee",
   "metadata": {},
   "outputs": [
    {
     "name": "stdout",
     "output_type": "stream",
     "text": [
      "1. Bundesliga 1\n",
      "    2015/2016: 306\n",
      "        1/306 Hoffenheim — Schalke 04:Listed goals = 5; Calculated goals = 4\n",
      "        21/306 FSV Mainz 05 — Hertha Berlin:Listed goals = 0; Calculated goals = 0\n",
      "        41/306 Augsburg — FC Köln:Listed goals = 0; Calculated goals = 0\n",
      "        61/306 Schalke 04 — Borussia Dortmund:Listed goals = 4; Calculated goals = 4\n",
      "        81/306 FC Köln — Bayern Munich:Listed goals = 1; Calculated goals = 1\n",
      "        101/306 Wolfsburg — Borussia Mönchengladbach:Listed goals = 3; Calculated goals = 3\n",
      "        121/306 Schalke 04 — VfB Stuttgart:Listed goals = 2; Calculated goals = 2\n",
      "        141/306 Hertha Berlin — Borussia Dortmund:Listed goals = 0; Calculated goals = 0\n",
      "        161/306 Hoffenheim — Bayer Leverkusen:Listed goals = 2; Calculated goals = 2\n"
     ]
    },
    {
     "ename": "KeyboardInterrupt",
     "evalue": "",
     "output_type": "error",
     "traceback": [
      "\u001b[0;31m---------------------------------------------------------------------------\u001b[0m",
      "\u001b[0;31mKeyboardInterrupt\u001b[0m                         Traceback (most recent call last)",
      "Cell \u001b[0;32mIn[6], line 22\u001b[0m\n\u001b[1;32m     18\u001b[0m     event_data \u001b[38;5;241m=\u001b[39m requests\u001b[38;5;241m.\u001b[39mget(\n\u001b[1;32m     19\u001b[0m         \u001b[38;5;124mf\u001b[39m\u001b[38;5;124m\"\u001b[39m\u001b[38;5;124mhttps://raw.githubusercontent.com/statsbomb/open-data/master/data/events/\u001b[39m\u001b[38;5;132;01m{\u001b[39;00mmatch\u001b[38;5;241m.\u001b[39mmatch_id\u001b[38;5;132;01m}\u001b[39;00m\u001b[38;5;124m.json\u001b[39m\u001b[38;5;124m\"\u001b[39m\n\u001b[1;32m     20\u001b[0m     )\n\u001b[1;32m     21\u001b[0m     \u001b[38;5;28;01mwith\u001b[39;00m \u001b[38;5;28mopen\u001b[39m(event_file, \u001b[38;5;124m\"\u001b[39m\u001b[38;5;124mw\u001b[39m\u001b[38;5;124m\"\u001b[39m) \u001b[38;5;28;01mas\u001b[39;00m f:\n\u001b[0;32m---> 22\u001b[0m         \u001b[43mjson\u001b[49m\u001b[38;5;241;43m.\u001b[39;49m\u001b[43mdump\u001b[49m\u001b[43m(\u001b[49m\u001b[43mevent_data\u001b[49m\u001b[38;5;241;43m.\u001b[39;49m\u001b[43mjson\u001b[49m\u001b[43m(\u001b[49m\u001b[43m)\u001b[49m\u001b[43m,\u001b[49m\u001b[43m \u001b[49m\u001b[43mf\u001b[49m\u001b[43m)\u001b[49m\n\u001b[1;32m     23\u001b[0m \u001b[38;5;28;01mif\u001b[39;00m lineup_file\u001b[38;5;241m.\u001b[39mis_file() \u001b[38;5;129;01mis\u001b[39;00m \u001b[38;5;28;01mFalse\u001b[39;00m:\n\u001b[1;32m     24\u001b[0m     lineup_data \u001b[38;5;241m=\u001b[39m requests\u001b[38;5;241m.\u001b[39mget(\n\u001b[1;32m     25\u001b[0m         \u001b[38;5;124mf\u001b[39m\u001b[38;5;124m\"\u001b[39m\u001b[38;5;124mhttps://raw.githubusercontent.com/statsbomb/open-data/master/data/lineups/\u001b[39m\u001b[38;5;132;01m{\u001b[39;00mmatch\u001b[38;5;241m.\u001b[39mmatch_id\u001b[38;5;132;01m}\u001b[39;00m\u001b[38;5;124m.json\u001b[39m\u001b[38;5;124m\"\u001b[39m\n\u001b[1;32m     26\u001b[0m     )\n",
      "File \u001b[0;32m~/miniconda/envs/kloppy/lib/python3.10/json/__init__.py:179\u001b[0m, in \u001b[0;36mdump\u001b[0;34m(obj, fp, skipkeys, ensure_ascii, check_circular, allow_nan, cls, indent, separators, default, sort_keys, **kw)\u001b[0m\n\u001b[1;32m    173\u001b[0m     iterable \u001b[38;5;241m=\u001b[39m \u001b[38;5;28mcls\u001b[39m(skipkeys\u001b[38;5;241m=\u001b[39mskipkeys, ensure_ascii\u001b[38;5;241m=\u001b[39mensure_ascii,\n\u001b[1;32m    174\u001b[0m         check_circular\u001b[38;5;241m=\u001b[39mcheck_circular, allow_nan\u001b[38;5;241m=\u001b[39mallow_nan, indent\u001b[38;5;241m=\u001b[39mindent,\n\u001b[1;32m    175\u001b[0m         separators\u001b[38;5;241m=\u001b[39mseparators,\n\u001b[1;32m    176\u001b[0m         default\u001b[38;5;241m=\u001b[39mdefault, sort_keys\u001b[38;5;241m=\u001b[39msort_keys, \u001b[38;5;241m*\u001b[39m\u001b[38;5;241m*\u001b[39mkw)\u001b[38;5;241m.\u001b[39miterencode(obj)\n\u001b[1;32m    177\u001b[0m \u001b[38;5;66;03m# could accelerate with writelines in some versions of Python, at\u001b[39;00m\n\u001b[1;32m    178\u001b[0m \u001b[38;5;66;03m# a debuggability cost\u001b[39;00m\n\u001b[0;32m--> 179\u001b[0m \u001b[38;5;28;01mfor\u001b[39;00m chunk \u001b[38;5;129;01min\u001b[39;00m iterable:\n\u001b[1;32m    180\u001b[0m     fp\u001b[38;5;241m.\u001b[39mwrite(chunk)\n",
      "File \u001b[0;32m~/miniconda/envs/kloppy/lib/python3.10/json/encoder.py:429\u001b[0m, in \u001b[0;36m_make_iterencode.<locals>._iterencode\u001b[0;34m(o, _current_indent_level)\u001b[0m\n\u001b[1;32m    427\u001b[0m     \u001b[38;5;28;01myield\u001b[39;00m _floatstr(o)\n\u001b[1;32m    428\u001b[0m \u001b[38;5;28;01melif\u001b[39;00m \u001b[38;5;28misinstance\u001b[39m(o, (\u001b[38;5;28mlist\u001b[39m, \u001b[38;5;28mtuple\u001b[39m)):\n\u001b[0;32m--> 429\u001b[0m     \u001b[38;5;28;01myield from\u001b[39;00m _iterencode_list(o, _current_indent_level)\n\u001b[1;32m    430\u001b[0m \u001b[38;5;28;01melif\u001b[39;00m \u001b[38;5;28misinstance\u001b[39m(o, \u001b[38;5;28mdict\u001b[39m):\n\u001b[1;32m    431\u001b[0m     \u001b[38;5;28;01myield from\u001b[39;00m _iterencode_dict(o, _current_indent_level)\n",
      "File \u001b[0;32m~/miniconda/envs/kloppy/lib/python3.10/json/encoder.py:325\u001b[0m, in \u001b[0;36m_make_iterencode.<locals>._iterencode_list\u001b[0;34m(lst, _current_indent_level)\u001b[0m\n\u001b[1;32m    323\u001b[0m         \u001b[38;5;28;01melse\u001b[39;00m:\n\u001b[1;32m    324\u001b[0m             chunks \u001b[38;5;241m=\u001b[39m _iterencode(value, _current_indent_level)\n\u001b[0;32m--> 325\u001b[0m         \u001b[38;5;28;01myield from\u001b[39;00m chunks\n\u001b[1;32m    326\u001b[0m \u001b[38;5;28;01mif\u001b[39;00m newline_indent \u001b[38;5;129;01mis\u001b[39;00m \u001b[38;5;129;01mnot\u001b[39;00m \u001b[38;5;28;01mNone\u001b[39;00m:\n\u001b[1;32m    327\u001b[0m     _current_indent_level \u001b[38;5;241m-\u001b[39m\u001b[38;5;241m=\u001b[39m \u001b[38;5;241m1\u001b[39m\n",
      "File \u001b[0;32m~/miniconda/envs/kloppy/lib/python3.10/json/encoder.py:405\u001b[0m, in \u001b[0;36m_make_iterencode.<locals>._iterencode_dict\u001b[0;34m(dct, _current_indent_level)\u001b[0m\n\u001b[1;32m    403\u001b[0m         \u001b[38;5;28;01melse\u001b[39;00m:\n\u001b[1;32m    404\u001b[0m             chunks \u001b[38;5;241m=\u001b[39m _iterencode(value, _current_indent_level)\n\u001b[0;32m--> 405\u001b[0m         \u001b[38;5;28;01myield from\u001b[39;00m chunks\n\u001b[1;32m    406\u001b[0m \u001b[38;5;28;01mif\u001b[39;00m newline_indent \u001b[38;5;129;01mis\u001b[39;00m \u001b[38;5;129;01mnot\u001b[39;00m \u001b[38;5;28;01mNone\u001b[39;00m:\n\u001b[1;32m    407\u001b[0m     _current_indent_level \u001b[38;5;241m-\u001b[39m\u001b[38;5;241m=\u001b[39m \u001b[38;5;241m1\u001b[39m\n",
      "File \u001b[0;32m~/miniconda/envs/kloppy/lib/python3.10/json/encoder.py:333\u001b[0m, in \u001b[0;36m_make_iterencode.<locals>._iterencode_dict\u001b[0;34m(dct, _current_indent_level)\u001b[0m\n\u001b[1;32m    330\u001b[0m     \u001b[38;5;28;01mif\u001b[39;00m markers \u001b[38;5;129;01mis\u001b[39;00m \u001b[38;5;129;01mnot\u001b[39;00m \u001b[38;5;28;01mNone\u001b[39;00m:\n\u001b[1;32m    331\u001b[0m         \u001b[38;5;28;01mdel\u001b[39;00m markers[markerid]\n\u001b[0;32m--> 333\u001b[0m \u001b[38;5;28;01mdef\u001b[39;00m \u001b[38;5;21m_iterencode_dict\u001b[39m(dct, _current_indent_level):\n\u001b[1;32m    334\u001b[0m     \u001b[38;5;28;01mif\u001b[39;00m \u001b[38;5;129;01mnot\u001b[39;00m dct:\n\u001b[1;32m    335\u001b[0m         \u001b[38;5;28;01myield\u001b[39;00m \u001b[38;5;124m'\u001b[39m\u001b[38;5;132;01m{}\u001b[39;00m\u001b[38;5;124m'\u001b[39m\n",
      "\u001b[0;31mKeyboardInterrupt\u001b[0m: "
     ]
    }
   ],
   "source": [
    "p = pathlib.Path(\"../../data/statsbomb/\")\n",
    "lineup_dir = p / \"lineups\"\n",
    "event_dir = p / \"events\"\n",
    "lineup_dir.mkdir(parents=True, exist_ok=True)\n",
    "event_dir.mkdir(parents=True, exist_ok=True)\n",
    "\n",
    "shot_percentage = {}\n",
    "for competition in competitions:\n",
    "    print(competition.name, len(competition.seasons))\n",
    "    shot_percentage[competition.name] = {}\n",
    "    for season in competition.seasons:\n",
    "        print(f\"    {season.name}: {len(season.matches)}\")\n",
    "        shot_percentage[competition.name][season.name] = []\n",
    "        for i, match in enumerate(season.matches):\n",
    "            event_file = event_dir / f\"{match.match_id}.json\"\n",
    "            lineup_file = lineup_dir / f\"{match.match_id}.json\"\n",
    "            if event_file.is_file() is False:\n",
    "                event_data = requests.get(\n",
    "                    f\"https://raw.githubusercontent.com/statsbomb/open-data/master/data/events/{match.match_id}.json\"\n",
    "                )\n",
    "                with open(event_file, \"w\") as f:\n",
    "                    json.dump(event_data.json(), f)\n",
    "            if lineup_file.is_file() is False:\n",
    "                lineup_data = requests.get(\n",
    "                    f\"https://raw.githubusercontent.com/statsbomb/open-data/master/data/lineups/{match.match_id}.json\"\n",
    "                )\n",
    "                with open(lineup_file, \"w\") as f:\n",
    "                    json.dump(lineup_data.json(), f)\n",
    "            try:\n",
    "                events = statsbomb.load(\n",
    "                    event_file, lineup_file, \n",
    "                    event_types=[\"shot\"], coordinates=\"statsbomb\", event_factory=event_factory\n",
    "                )\n",
    "            except json.JSONDecodeError:\n",
    "                print(f\"Parse error for match_id {match.match_id}\")\n",
    "            num_shots = len(events)\n",
    "            num_goals = 0\n",
    "            for event in events:\n",
    "                if event.result.is_success:\n",
    "                    num_goals += 1\n",
    "            if i % 20 == 0:\n",
    "                print(\n",
    "                    f\"        {i+1}/{len(season.matches)} {match.home_team} — {match.away_team}:\"\n",
    "                    f\"Listed goals = {match.home_score + match.away_score}; Calculated goals = {num_goals}\"\n",
    "                    )\n",
    "            if num_goals > match.home_score + match.away_score:  # < is ok because of own goals\n",
    "                print(f\"            MISMATCH: {match.match_id}\")\n",
    "            shot_percentage[competition.name][season.name].append((num_shots, num_goals))\n",
    "                \n",
    "        "
   ]
  },
  {
   "cell_type": "code",
   "execution_count": null,
   "id": "4bb558ef",
   "metadata": {},
   "outputs": [],
   "source": []
  },
  {
   "cell_type": "code",
   "execution_count": null,
   "id": "5865c57c",
   "metadata": {},
   "outputs": [],
   "source": [
    "with open(\"3845506.json\", \"r\") as f:\n",
    "    raw_data_list = f.readlines()\n",
    "with open(\"3845506.json\", \"r\") as f:\n",
    "    raw_data = f.read()"
   ]
  },
  {
   "cell_type": "code",
   "execution_count": null,
   "id": "d20dce3c",
   "metadata": {},
   "outputs": [],
   "source": [
    "[event for event in test_data if event.result.is_success]"
   ]
  },
  {
   "cell_type": "code",
   "execution_count": null,
   "id": "b7cc7b92",
   "metadata": {},
   "outputs": [],
   "source": [
    "test_data[-1].raw_event"
   ]
  },
  {
   "cell_type": "code",
   "execution_count": null,
   "id": "7908dd9f",
   "metadata": {
    "scrolled": true
   },
   "outputs": [],
   "source": [
    "\n",
    "\n",
    "dataset = statsbomb.load_open_data(\n",
    "    3794691, event_types=[\"shot\"], coordinates=\"statsbomb\", event_factory=event_factory\n",
    ")"
   ]
  },
  {
   "cell_type": "code",
   "execution_count": null,
   "id": "763ec13e",
   "metadata": {},
   "outputs": [],
   "source": [
    "[attr for attr in dir(dataset[-1]) if not attr.startswith(\"__\")]"
   ]
  },
  {
   "cell_type": "code",
   "execution_count": null,
   "id": "8e3b6609",
   "metadata": {},
   "outputs": [],
   "source": [
    "[attr for attr in dir(test_data[-1]) if not attr.startswith(\"__\")]"
   ]
  },
  {
   "cell_type": "code",
   "execution_count": null,
   "id": "28f54bf8",
   "metadata": {},
   "outputs": [],
   "source": [
    "data = statsbomb.load(\n",
    "    \"../../data/statsbomb/events/3890561.json\",\n",
    "    \"../../data/statsbomb/lineups/3890561.json\"\n",
    ")"
   ]
  },
  {
   "cell_type": "code",
   "execution_count": null,
   "id": "f5def4a1",
   "metadata": {},
   "outputs": [],
   "source": [
    "test = requests.get(\n",
    "    f\"https://raw.githubusercontent.com/statsbomb/open-data/master/data/events/3890561.json\"\n",
    ")"
   ]
  },
  {
   "cell_type": "code",
   "execution_count": null,
   "id": "370340ea",
   "metadata": {},
   "outputs": [],
   "source": [
    "with open(\"test.json\", \"w\") as f:\n",
    "    json.dump(test.json(), f)\n",
    "#test.json()"
   ]
  },
  {
   "cell_type": "code",
   "execution_count": null,
   "id": "b4e35814",
   "metadata": {},
   "outputs": [],
   "source": []
  }
 ],
 "metadata": {
  "kernelspec": {
   "display_name": "Python 3 (ipykernel)",
   "language": "python",
   "name": "python3"
  },
  "language_info": {
   "codemirror_mode": {
    "name": "ipython",
    "version": 3
   },
   "file_extension": ".py",
   "mimetype": "text/x-python",
   "name": "python",
   "nbconvert_exporter": "python",
   "pygments_lexer": "ipython3",
   "version": "3.10.12"
  }
 },
 "nbformat": 4,
 "nbformat_minor": 5
}
