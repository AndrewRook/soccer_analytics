{
 "cells": [
  {
   "cell_type": "markdown",
   "id": "301da5b2",
   "metadata": {},
   "source": [
    "Baseline expected goals is just the overall scoring percentage."
   ]
  },
  {
   "cell_type": "code",
   "execution_count": 1,
   "id": "a612165d",
   "metadata": {},
   "outputs": [],
   "source": [
    "import numpy as np\n",
    "\n",
    "from sklearn.model_selection import train_test_split\n",
    "from sklearn.metrics import brier_score_loss\n",
    "\n",
    "from soccer_analytics.data.statsbomb import get_metadata, get_events\n",
    "from soccer_analytics.data_split import split_by_time"
   ]
  },
  {
   "cell_type": "code",
   "execution_count": 2,
   "id": "0e68c945",
   "metadata": {},
   "outputs": [],
   "source": [
    "competitions = get_metadata()"
   ]
  },
  {
   "cell_type": "code",
   "execution_count": 3,
   "id": "ba419149",
   "metadata": {},
   "outputs": [],
   "source": [
    "full_competitions = {\n",
    "    \"1. Bundesliga\": [\"2015/2016\"],\n",
    "    \"FA Women's Super League\": [\"2018/2019\", \"2019/2020\", \"2020/2021\"],\n",
    "    \"FIFA World Cup\": [\"2018\", \"2022\"],\n",
    "    \"Indian Super league\": [\"2021/2022\"],\n",
    "    \"La Liga\": [\"2015/2016\"],\n",
    "    \"Ligue 1\": [\"2015/2016\"],\n",
    "    \"Premier League\": [\"2015/2016\"],\n",
    "    \"Serie A\": [\"2015/2016\"],\n",
    "    \"UEFA Euro\": [\"2020\"],\n",
    "    \"UEFA Women's Euro\": [\"2022\"],\n",
    "    \"Women's World Cup\": [\"2019\", \"2023\"]    \n",
    "}"
   ]
  },
  {
   "cell_type": "code",
   "execution_count": 4,
   "id": "1dc41971",
   "metadata": {
    "scrolled": true
   },
   "outputs": [
    {
     "name": "stdout",
     "output_type": "stream",
     "text": [
      "1. Bundesliga 1\n",
      "    2015/2016: 306\n",
      "Champions League 18\n",
      "Copa del Rey 3\n",
      "FA Women's Super League 3\n",
      "    2020/2021: 131\n",
      "    2019/2020: 87\n",
      "    2018/2019: 108\n",
      "FIFA U20 World Cup 1\n",
      "FIFA World Cup 8\n",
      "    2022: 64\n",
      "    2018: 64\n",
      "    1990: 1\n",
      "    1986: 3\n",
      "    1974: 6\n",
      "    1970: 6\n",
      "    1962: 1\n",
      "    1958: 2\n",
      "Indian Super league 1\n",
      "    2021/2022: 115\n",
      "La Liga 18\n",
      "    2020/2021: 35\n",
      "    2019/2020: 33\n",
      "    2018/2019: 34\n",
      "    2017/2018: 36\n",
      "    2016/2017: 34\n",
      "    2015/2016: 380\n",
      "    2014/2015: 38\n",
      "    2013/2014: 31\n",
      "    2012/2013: 32\n",
      "    2011/2012: 37\n",
      "    2010/2011: 33\n",
      "    2009/2010: 35\n",
      "    2008/2009: 31\n",
      "    2007/2008: 28\n",
      "    2006/2007: 26\n",
      "    2005/2006: 17\n",
      "    2004/2005: 7\n",
      "    1973/1974: 1\n",
      "Liga Profesional 2\n",
      "Ligue 1 3\n",
      "    2022/2023: 32\n",
      "    2021/2022: 26\n",
      "    2015/2016: 377\n",
      "Major League Soccer 1\n",
      "North American League 1\n",
      "NWSL 1\n",
      "Premier League 2\n",
      "    2015/2016: 380\n",
      "    2003/2004: 38\n",
      "Serie A 2\n",
      "    2015/2016: 380\n",
      "    1986/1987: 1\n",
      "UEFA Euro 1\n",
      "    2020: 51\n",
      "UEFA Europa League 1\n",
      "UEFA Women's Euro 1\n",
      "    2022: 31\n",
      "Women's World Cup 2\n",
      "    2023: 64\n",
      "    2019: 52\n"
     ]
    }
   ],
   "source": [
    "matches_by_competition = {}\n",
    "for competition in competitions:\n",
    "    print(competition.name, len(competition.seasons))\n",
    "    if competition.name in full_competitions:\n",
    "        matches_by_competition[competition.name] = []\n",
    "        for season in competition.seasons:\n",
    "            print(f\"    {season.name}: {len(season.matches)}\")\n",
    "            if season.name in full_competitions[competition.name]:\n",
    "                matches_by_competition[competition.name].extend(get_events(\n",
    "                    season, event_types=[\"shot\"]\n",
    "                ))"
   ]
  },
  {
   "cell_type": "code",
   "execution_count": 5,
   "id": "7efdae67",
   "metadata": {},
   "outputs": [
    {
     "data": {
      "text/plain": [
       "(1650, 417, 523)"
      ]
     },
     "execution_count": 5,
     "metadata": {},
     "output_type": "execute_result"
    }
   ],
   "source": [
    "train_matches = []\n",
    "test_matches = []\n",
    "validation_matches = []\n",
    "for competition_name, matches in matches_by_competition.items():\n",
    "    if len(matches) > 0:\n",
    "        # out of time validation: last 20% of matches by time in the competition\n",
    "        competition_train_test_matches, competition_validation_matches = split_by_time(matches, test_frac=0.2)\n",
    "        # In time test: random 20% of matches from the first 80% of time in the competition:\n",
    "        competition_train_matches, competition_test_matches = train_test_split(\n",
    "            competition_train_test_matches, test_size=0.2, random_state=235\n",
    "        )\n",
    "        train_matches.extend(competition_train_matches)\n",
    "        test_matches.extend(competition_test_matches)\n",
    "        validation_matches.extend(competition_validation_matches)\n",
    "len(train_matches), len(test_matches), len(validation_matches)"
   ]
  },
  {
   "cell_type": "code",
   "execution_count": 6,
   "id": "84bf3fa6",
   "metadata": {},
   "outputs": [
    {
     "data": {
      "text/plain": [
       "(41321, 10330)"
      ]
     },
     "execution_count": 6,
     "metadata": {},
     "output_type": "execute_result"
    }
   ],
   "source": [
    "are_goals_train = []\n",
    "are_goals_test = []\n",
    "for match in train_matches:\n",
    "    for shot in match.events:\n",
    "        if shot.freeze_frame and not shot.is_penalty:\n",
    "            are_goals_train.append(int(shot.result.is_success))\n",
    "for match in test_matches:\n",
    "    for shot in match.events:\n",
    "        if shot.freeze_frame and not shot.is_penalty:\n",
    "            are_goals_test.append(int(shot.result.is_success))\n",
    "len(are_goals_train), len(are_goals_test)"
   ]
  },
  {
   "cell_type": "code",
   "execution_count": 7,
   "id": "4a65a1de",
   "metadata": {},
   "outputs": [
    {
     "data": {
      "text/plain": [
       "0.09057106452868974"
      ]
     },
     "execution_count": 7,
     "metadata": {},
     "output_type": "execute_result"
    }
   ],
   "source": [
    "predictions = np.zeros(len(are_goals_test)) + np.mean(are_goals_train)\n",
    "brier_score_loss(are_goals_test, predictions)"
   ]
  },
  {
   "cell_type": "code",
   "execution_count": null,
   "id": "fe3c95ca-b55d-4638-b071-578ace1238a4",
   "metadata": {},
   "outputs": [],
   "source": []
  }
 ],
 "metadata": {
  "kernelspec": {
   "display_name": "Python 3 (ipykernel)",
   "language": "python",
   "name": "python3"
  },
  "language_info": {
   "codemirror_mode": {
    "name": "ipython",
    "version": 3
   },
   "file_extension": ".py",
   "mimetype": "text/x-python",
   "name": "python",
   "nbconvert_exporter": "python",
   "pygments_lexer": "ipython3",
   "version": "3.11.7"
  }
 },
 "nbformat": 4,
 "nbformat_minor": 5
}
