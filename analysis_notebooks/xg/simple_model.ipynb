{
 "cells": [
  {
   "cell_type": "code",
   "execution_count": 1,
   "id": "3943a235",
   "metadata": {},
   "outputs": [],
   "source": [
    "import pandas as pd\n",
    "import dill\n",
    "\n",
    "from sklearn.linear_model import LogisticRegression\n",
    "from sklearn.metrics import brier_score_loss, mean_absolute_error, mean_squared_error, roc_auc_score\n",
    "from sklearn.model_selection import train_test_split\n",
    "from sklearn.pipeline import Pipeline\n",
    "from sklearn.preprocessing import StandardScaler\n",
    "from feature_engine.encoding import OneHotEncoder\n",
    "from feature_engine.selection import DropConstantFeatures, DropFeatures\n",
    "from feature_engine.wrappers import SklearnTransformerWrapper\n",
    "from types import MethodType\n",
    "\n",
    "from soccer_analytics.data.statsbomb import get_metadata, get_events\n",
    "from soccer_analytics.data_split import split_by_time\n",
    "from soccer_analytics.preprocessing import match_list_to_df, AngleNormalizer"
   ]
  },
  {
   "cell_type": "code",
   "execution_count": 2,
   "id": "74ec587c",
   "metadata": {},
   "outputs": [],
   "source": [
    "competitions = get_metadata()"
   ]
  },
  {
   "cell_type": "code",
   "execution_count": 3,
   "id": "296b69ae",
   "metadata": {},
   "outputs": [],
   "source": [
    "full_competitions = {\n",
    "   \"1. Bundesliga\": [\"2015/2016\"],\n",
    "    \"FA Women's Super League\": [\"2018/2019\", \"2019/2020\", \"2020/2021\"],\n",
    "    \"FIFA World Cup\": [\"2018\", \"2022\"],\n",
    "    \"Indian Super league\": [\"2021/2022\"],\n",
    "    \"La Liga\": [\"2015/2016\"],\n",
    "    \"Ligue 1\": [\"2015/2016\"],\n",
    "    \"Premier League\": [\"2015/2016\"],\n",
    "    \"Serie A\": [\"2015/2016\"],\n",
    "    \"UEFA Euro\": [\"2020\"],\n",
    "    \"UEFA Women's Euro\": [\"2022\"],\n",
    "    \"Women's World Cup\": [\"2019\", \"2023\"]\n",
    "}"
   ]
  },
  {
   "cell_type": "code",
   "execution_count": 4,
   "id": "8d3bd548",
   "metadata": {},
   "outputs": [
    {
     "name": "stdout",
     "output_type": "stream",
     "text": [
      "1. Bundesliga 1\n",
      "    2015/2016: 306\n",
      "Champions League 18\n",
      "Copa del Rey 3\n",
      "FA Women's Super League 3\n",
      "    2020/2021: 131\n",
      "    2019/2020: 87\n",
      "    2018/2019: 108\n",
      "FIFA U20 World Cup 1\n",
      "FIFA World Cup 8\n",
      "    2022: 64\n",
      "    2018: 64\n",
      "    1990: 1\n",
      "    1986: 3\n",
      "    1974: 6\n",
      "    1970: 6\n",
      "    1962: 1\n",
      "    1958: 2\n",
      "Indian Super league 1\n",
      "    2021/2022: 115\n",
      "La Liga 18\n",
      "    2020/2021: 35\n",
      "    2019/2020: 33\n",
      "    2018/2019: 34\n",
      "    2017/2018: 36\n",
      "    2016/2017: 34\n",
      "    2015/2016: 380\n",
      "    2014/2015: 38\n",
      "    2013/2014: 31\n",
      "    2012/2013: 32\n",
      "    2011/2012: 37\n",
      "    2010/2011: 33\n",
      "    2009/2010: 35\n",
      "    2008/2009: 31\n",
      "    2007/2008: 28\n",
      "    2006/2007: 26\n",
      "    2005/2006: 17\n",
      "    2004/2005: 7\n",
      "    1973/1974: 1\n",
      "Liga Profesional 2\n",
      "Ligue 1 3\n",
      "    2022/2023: 32\n",
      "    2021/2022: 26\n",
      "    2015/2016: 377\n",
      "Major League Soccer 1\n",
      "North American League 1\n",
      "NWSL 1\n",
      "Premier League 2\n",
      "    2015/2016: 380\n",
      "    2003/2004: 38\n",
      "Serie A 2\n",
      "    2015/2016: 380\n",
      "    1986/1987: 1\n",
      "UEFA Euro 1\n",
      "    2020: 51\n",
      "UEFA Europa League 1\n",
      "UEFA Women's Euro 1\n",
      "    2022: 31\n",
      "Women's World Cup 2\n",
      "    2023: 64\n",
      "    2019: 52\n"
     ]
    }
   ],
   "source": [
    "matches_by_competition = {}\n",
    "for competition in competitions:\n",
    "    print(competition.name, len(competition.seasons))\n",
    "    if competition.name in full_competitions:\n",
    "        matches_by_competition[competition.name] = []\n",
    "        for season in competition.seasons:\n",
    "            print(f\"    {season.name}: {len(season.matches)}\")\n",
    "            if season.name in full_competitions[competition.name]:\n",
    "                matches_by_competition[competition.name].extend(get_events(\n",
    "                    season, event_types=[\"shot\"]\n",
    "                ))"
   ]
  },
  {
   "cell_type": "code",
   "execution_count": 5,
   "id": "913d87f0-7716-473b-b5f0-bfae7b2a92d0",
   "metadata": {},
   "outputs": [
    {
     "data": {
      "text/plain": [
       "(1650, 417, 523)"
      ]
     },
     "execution_count": 5,
     "metadata": {},
     "output_type": "execute_result"
    }
   ],
   "source": [
    "train_matches = []\n",
    "test_matches = []\n",
    "validation_matches = []\n",
    "for competition_name, matches in matches_by_competition.items():\n",
    "    if len(matches) > 0:\n",
    "        # out of time validation: last 20% of matches by time in the competition\n",
    "        competition_train_test_matches, competition_validation_matches = split_by_time(matches, test_frac=0.2)\n",
    "        # In time test: random 20% of matches from the first 80% of time in the competition:\n",
    "        competition_train_matches, competition_test_matches = train_test_split(\n",
    "            competition_train_test_matches, test_size=0.2, random_state=235\n",
    "        )\n",
    "        train_matches.extend(competition_train_matches)\n",
    "        test_matches.extend(competition_test_matches)\n",
    "        validation_matches.extend(competition_validation_matches)\n",
    "len(train_matches), len(test_matches), len(validation_matches)"
   ]
  },
  {
   "cell_type": "code",
   "execution_count": 6,
   "id": "57da1de3-9eae-4685-8f8c-5cb5cc701998",
   "metadata": {},
   "outputs": [
    {
     "data": {
      "text/html": [
       "<div>\n",
       "<style scoped>\n",
       "    .dataframe tbody tr th:only-of-type {\n",
       "        vertical-align: middle;\n",
       "    }\n",
       "\n",
       "    .dataframe tbody tr th {\n",
       "        vertical-align: top;\n",
       "    }\n",
       "\n",
       "    .dataframe thead th {\n",
       "        text-align: right;\n",
       "    }\n",
       "</style>\n",
       "<table border=\"1\" class=\"dataframe\">\n",
       "  <thead>\n",
       "    <tr style=\"text-align: right;\">\n",
       "      <th></th>\n",
       "      <th>is_first_time</th>\n",
       "      <th>distance_to_goal</th>\n",
       "      <th>is_body_part_right_foot</th>\n",
       "      <th>is_body_part_left_foot</th>\n",
       "      <th>is_body_part_head</th>\n",
       "      <th>is_body_part_other</th>\n",
       "      <th>angle_from_goal</th>\n",
       "    </tr>\n",
       "  </thead>\n",
       "  <tbody>\n",
       "    <tr>\n",
       "      <th>0</th>\n",
       "      <td>False</td>\n",
       "      <td>23.640326</td>\n",
       "      <td>False</td>\n",
       "      <td>True</td>\n",
       "      <td>False</td>\n",
       "      <td>False</td>\n",
       "      <td>12.831123</td>\n",
       "    </tr>\n",
       "    <tr>\n",
       "      <th>1</th>\n",
       "      <td>True</td>\n",
       "      <td>25.948892</td>\n",
       "      <td>True</td>\n",
       "      <td>False</td>\n",
       "      <td>False</td>\n",
       "      <td>False</td>\n",
       "      <td>50.943628</td>\n",
       "    </tr>\n",
       "    <tr>\n",
       "      <th>2</th>\n",
       "      <td>False</td>\n",
       "      <td>18.108700</td>\n",
       "      <td>True</td>\n",
       "      <td>False</td>\n",
       "      <td>False</td>\n",
       "      <td>False</td>\n",
       "      <td>46.566291</td>\n",
       "    </tr>\n",
       "    <tr>\n",
       "      <th>3</th>\n",
       "      <td>False</td>\n",
       "      <td>32.041926</td>\n",
       "      <td>False</td>\n",
       "      <td>True</td>\n",
       "      <td>False</td>\n",
       "      <td>False</td>\n",
       "      <td>39.427802</td>\n",
       "    </tr>\n",
       "    <tr>\n",
       "      <th>4</th>\n",
       "      <td>False</td>\n",
       "      <td>10.084890</td>\n",
       "      <td>False</td>\n",
       "      <td>False</td>\n",
       "      <td>True</td>\n",
       "      <td>False</td>\n",
       "      <td>63.816068</td>\n",
       "    </tr>\n",
       "  </tbody>\n",
       "</table>\n",
       "</div>"
      ],
      "text/plain": [
       "   is_first_time  distance_to_goal  is_body_part_right_foot  \\\n",
       "0          False         23.640326                    False   \n",
       "1           True         25.948892                     True   \n",
       "2          False         18.108700                     True   \n",
       "3          False         32.041926                    False   \n",
       "4          False         10.084890                    False   \n",
       "\n",
       "   is_body_part_left_foot  is_body_part_head  is_body_part_other  \\\n",
       "0                    True              False               False   \n",
       "1                   False              False               False   \n",
       "2                   False              False               False   \n",
       "3                    True              False               False   \n",
       "4                   False               True               False   \n",
       "\n",
       "   angle_from_goal  \n",
       "0        12.831123  \n",
       "1        50.943628  \n",
       "2        46.566291  \n",
       "3        39.427802  \n",
       "4        63.816068  "
      ]
     },
     "execution_count": 6,
     "metadata": {},
     "output_type": "execute_result"
    }
   ],
   "source": [
    "train_df = match_list_to_df(train_matches)\n",
    "test_df = match_list_to_df(test_matches)\n",
    "train_df = train_df.loc[train_df[\"is_penalty\"] == False, :]\n",
    "test_df = test_df.loc[test_df[\"is_penalty\"] == False, :]\n",
    "\n",
    "data_prep_pipeline = Pipeline((\n",
    "    (\"drop_unused_columns\", DropFeatures([\"statsbomb_xg\", \"coordinates_x\", \"coordinates_y\", \"is_goal\", \"technique\", \"position\"])),\n",
    "    (\"drop_constant_columns\", DropConstantFeatures()),\n",
    "    (\"create_angle_from_goal\", AngleNormalizer(variable=\"angle_to_goal\", new_variable=\"angle_from_goal\")),\n",
    "    (\"passthrough\", \"passthrough\")\n",
    "))\n",
    "\n",
    "train_df_transformed = data_prep_pipeline.fit_transform(train_df)\n",
    "test_df_transformed = data_prep_pipeline.transform(test_df)\n",
    "train_df_transformed.head()"
   ]
  },
  {
   "cell_type": "code",
   "execution_count": 7,
   "id": "7f93868f-b74a-4257-a04b-3eca5cba5ebb",
   "metadata": {},
   "outputs": [
    {
     "data": {
      "text/plain": [
       "10330"
      ]
     },
     "execution_count": 7,
     "metadata": {},
     "output_type": "execute_result"
    }
   ],
   "source": [
    "model = LogisticRegression(penalty=None, max_iter=10000, random_state=315)\n",
    "model.fit(train_df_transformed, train_df[\"is_goal\"])\n",
    "test_probs = model.predict_proba(test_df_transformed)[:, 1]\n",
    "len(test_probs)"
   ]
  },
  {
   "cell_type": "code",
   "execution_count": 8,
   "id": "cca8adaa-961c-4835-870b-bcea114f69f7",
   "metadata": {},
   "outputs": [
    {
     "data": {
      "text/plain": [
       "(0.0804275739307427, 0.7652322596671359)"
      ]
     },
     "execution_count": 8,
     "metadata": {},
     "output_type": "execute_result"
    }
   ],
   "source": [
    "brier = brier_score_loss(test_df[\"is_goal\"], test_probs)\n",
    "auroc = roc_auc_score(test_df[\"is_goal\"], test_probs)\n",
    "brier, auroc"
   ]
  },
  {
   "cell_type": "code",
   "execution_count": 9,
   "id": "564e0569-9600-49ee-af10-2a308bcc6227",
   "metadata": {},
   "outputs": [
    {
     "data": {
      "text/html": [
       "<div>\n",
       "<style scoped>\n",
       "    .dataframe tbody tr th:only-of-type {\n",
       "        vertical-align: middle;\n",
       "    }\n",
       "\n",
       "    .dataframe tbody tr th {\n",
       "        vertical-align: top;\n",
       "    }\n",
       "\n",
       "    .dataframe thead th {\n",
       "        text-align: right;\n",
       "    }\n",
       "</style>\n",
       "<table border=\"1\" class=\"dataframe\">\n",
       "  <thead>\n",
       "    <tr style=\"text-align: right;\">\n",
       "      <th></th>\n",
       "      <th>coef_name</th>\n",
       "      <th>coef_value</th>\n",
       "    </tr>\n",
       "  </thead>\n",
       "  <tbody>\n",
       "    <tr>\n",
       "      <th>0</th>\n",
       "      <td>is_first_time</td>\n",
       "      <td>-0.304899</td>\n",
       "    </tr>\n",
       "    <tr>\n",
       "      <th>1</th>\n",
       "      <td>distance_to_goal</td>\n",
       "      <td>-0.160741</td>\n",
       "    </tr>\n",
       "    <tr>\n",
       "      <th>2</th>\n",
       "      <td>is_body_part_right_foot</td>\n",
       "      <td>0.597080</td>\n",
       "    </tr>\n",
       "    <tr>\n",
       "      <th>3</th>\n",
       "      <td>is_body_part_left_foot</td>\n",
       "      <td>0.501881</td>\n",
       "    </tr>\n",
       "    <tr>\n",
       "      <th>4</th>\n",
       "      <td>is_body_part_head</td>\n",
       "      <td>-0.781629</td>\n",
       "    </tr>\n",
       "    <tr>\n",
       "      <th>5</th>\n",
       "      <td>is_body_part_other</td>\n",
       "      <td>0.128582</td>\n",
       "    </tr>\n",
       "    <tr>\n",
       "      <th>6</th>\n",
       "      <td>angle_from_goal</td>\n",
       "      <td>-0.009846</td>\n",
       "    </tr>\n",
       "  </tbody>\n",
       "</table>\n",
       "</div>"
      ],
      "text/plain": [
       "                 coef_name  coef_value\n",
       "0            is_first_time   -0.304899\n",
       "1         distance_to_goal   -0.160741\n",
       "2  is_body_part_right_foot    0.597080\n",
       "3   is_body_part_left_foot    0.501881\n",
       "4        is_body_part_head   -0.781629\n",
       "5       is_body_part_other    0.128582\n",
       "6          angle_from_goal   -0.009846"
      ]
     },
     "execution_count": 9,
     "metadata": {},
     "output_type": "execute_result"
    }
   ],
   "source": [
    "coefficient_info = list(zip(train_df_transformed.columns, model.coef_[0]))\n",
    "coefficient_info = pd.DataFrame(coefficient_info, columns=[\"coef_name\", \"coef_value\"])\n",
    "coefficient_info"
   ]
  },
  {
   "cell_type": "code",
   "execution_count": null,
   "id": "5b8a7d69",
   "metadata": {},
   "outputs": [],
   "source": []
  }
 ],
 "metadata": {
  "kernelspec": {
   "display_name": "Python 3 (ipykernel)",
   "language": "python",
   "name": "python3"
  },
  "language_info": {
   "codemirror_mode": {
    "name": "ipython",
    "version": 3
   },
   "file_extension": ".py",
   "mimetype": "text/x-python",
   "name": "python",
   "nbconvert_exporter": "python",
   "pygments_lexer": "ipython3",
   "version": "3.11.7"
  }
 },
 "nbformat": 4,
 "nbformat_minor": 5
}
