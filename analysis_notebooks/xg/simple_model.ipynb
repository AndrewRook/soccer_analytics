{
 "cells": [
  {
   "cell_type": "code",
   "execution_count": 13,
   "id": "3943a235",
   "metadata": {},
   "outputs": [],
   "source": [
    "import pandas as pd\n",
    "import dill\n",
    "\n",
    "from sklearn.linear_model import LogisticRegression\n",
    "from sklearn.metrics import mean_absolute_error, brier_score_loss\n",
    "from sklearn.model_selection import train_test_split\n",
    "from sklearn.pipeline import Pipeline\n",
    "from sklearn.preprocessing import StandardScaler\n",
    "from feature_engine.encoding import OneHotEncoder\n",
    "from feature_engine.selection import DropConstantFeatures, DropFeatures\n",
    "from feature_engine.wrappers import SklearnTransformerWrapper\n",
    "from types import MethodType\n",
    "\n",
    "from soccer_analytics.data.statsbomb import get_metadata, get_events\n",
    "from soccer_analytics.data_split import split_by_time\n",
    "from soccer_analytics.preprocessing import match_list_to_df, AngleNormalizer"
   ]
  },
  {
   "cell_type": "code",
   "execution_count": 2,
   "id": "74ec587c",
   "metadata": {},
   "outputs": [],
   "source": [
    "competitions = get_metadata()"
   ]
  },
  {
   "cell_type": "code",
   "execution_count": 3,
   "id": "296b69ae",
   "metadata": {},
   "outputs": [],
   "source": [
    "full_competitions = {\n",
    "   \"1. Bundesliga\": [\"2015/2016\"],\n",
    "    \"FA Women's Super League\": [\"2018/2019\", \"2019/2020\", \"2020/2021\"],\n",
    "    \"FIFA World Cup\": [\"2018\", \"2022\"],\n",
    "    \"Indian Super league\": [\"2021/2022\"],\n",
    "    \"La Liga\": [\"2015/2016\"],\n",
    "    \"Ligue 1\": [\"2015/2016\"],\n",
    "    \"Premier League\": [\"2015/2016\"],\n",
    "    \"Serie A\": [\"2015/2016\"],\n",
    "    \"UEFA Euro\": [\"2020\"],\n",
    "    \"UEFA Women's Euro\": [\"2022\"],\n",
    "    \"Women's World Cup\": [\"2019\", \"2023\"]\n",
    "}"
   ]
  },
  {
   "cell_type": "code",
   "execution_count": 4,
   "id": "8d3bd548",
   "metadata": {},
   "outputs": [
    {
     "name": "stdout",
     "output_type": "stream",
     "text": [
      "1. Bundesliga 1\n",
      "    2015/2016: 306\n",
      "Champions League 18\n",
      "Copa del Rey 3\n",
      "FA Women's Super League 3\n",
      "    2020/2021: 131\n",
      "    2019/2020: 87\n",
      "    2018/2019: 108\n",
      "FIFA U20 World Cup 1\n",
      "FIFA World Cup 8\n",
      "    2022: 64\n",
      "    2018: 64\n",
      "    1990: 1\n",
      "    1986: 3\n",
      "    1974: 6\n",
      "    1970: 6\n",
      "    1962: 1\n",
      "    1958: 2\n",
      "Indian Super league 1\n",
      "    2021/2022: 115\n",
      "La Liga 18\n",
      "    2020/2021: 35\n",
      "    2019/2020: 33\n",
      "    2018/2019: 34\n",
      "    2017/2018: 36\n",
      "    2016/2017: 34\n",
      "    2015/2016: 380\n",
      "    2014/2015: 38\n",
      "    2013/2014: 31\n",
      "    2012/2013: 32\n",
      "    2011/2012: 37\n",
      "    2010/2011: 33\n",
      "    2009/2010: 35\n",
      "    2008/2009: 31\n",
      "    2007/2008: 28\n",
      "    2006/2007: 26\n",
      "    2005/2006: 17\n",
      "    2004/2005: 7\n",
      "    1973/1974: 1\n",
      "Liga Profesional 2\n",
      "Ligue 1 1\n",
      "    2015/2016: 377\n",
      "North American League 1\n",
      "NWSL 1\n",
      "Premier League 2\n",
      "    2015/2016: 380\n",
      "    2003/2004: 38\n",
      "Serie A 2\n",
      "    2015/2016: 380\n",
      "    1986/1987: 1\n",
      "UEFA Euro 1\n",
      "    2020: 51\n",
      "UEFA Europa League 1\n",
      "UEFA Women's Euro 1\n",
      "    2022: 31\n",
      "Women's World Cup 2\n",
      "    2023: 64\n",
      "    2019: 52\n"
     ]
    }
   ],
   "source": [
    "matches_by_competition = {}\n",
    "for competition in competitions:\n",
    "    print(competition.name, len(competition.seasons))\n",
    "    if competition.name in full_competitions:\n",
    "        matches_by_competition[competition.name] = []\n",
    "        for season in competition.seasons:\n",
    "            print(f\"    {season.name}: {len(season.matches)}\")\n",
    "            if season.name in full_competitions[competition.name]:\n",
    "                matches_by_competition[competition.name].extend(get_events(\n",
    "                    season, event_types=[\"shot\"]\n",
    "                ))"
   ]
  },
  {
   "cell_type": "code",
   "execution_count": null,
   "id": "aa565e35",
   "metadata": {},
   "outputs": [],
   "source": [
    "loss_info = []\n",
    "coefficient_info = []\n",
    "model_info = {}\n",
    "test_data = {}\n",
    "for competition_name, matches in matches_by_competition.items():\n",
    "    train_test_matches, _ = split_by_time(matches, test_frac=0.2)\n",
    "    train_matches, test_matches = train_test_split(\n",
    "        train_test_matches, test_size=0.2, random_state=235\n",
    "    )\n",
    "    train_df = match_list_to_df(train_matches)\n",
    "    test_df = match_list_to_df(test_matches)\n",
    "    test_data[\"competition_name\"] = test_df\n",
    "    data_prep_pipeline = Pipeline((\n",
    "        (\"encode_categories\", OneHotEncoder(variables=[\"technique\", \"position\"], drop_last=True)),\n",
    "        (\"drop_unused_columns\", DropFeatures([\"statsbomb_xg\", \"coordinates_x\", \"coordinates_y\", \"is_goal\"])),\n",
    "        (\"drop_constant_columns\", DropConstantFeatures()),\n",
    "        (\"create_angle_from_goal\", AngleNormalizer(variable=\"angle_to_goal\", new_variable=\"angle_from_goal\")),\n",
    "        (\"passthrough\", \"passthrough\"),\n",
    "    ))\n",
    "    model = LogisticRegression(penalty=None, max_iter=10000, random_state=315)\n",
    "    train_df_transformed = data_prep_pipeline.fit_transform(train_df)\n",
    "    test_df_transformed = data_prep_pipeline.transform(test_df)\n",
    "    model.fit(train_df_transformed, train_df[\"is_goal\"])\n",
    "    test_probs = model.predict_proba(test_df_transformed)[:,1]\n",
    "    \n",
    "    mae = mean_absolute_error(test_df[\"is_goal\"], test_probs)\n",
    "    mae_statsbomb = mean_absolute_error(test_df[\"is_goal\"], test_df[\"statsbomb_xg\"])\n",
    "    brier = brier_score_loss(test_df[\"is_goal\"], test_probs)\n",
    "    brier_statsbomb = brier_score_loss(test_df[\"is_goal\"], test_df[\"statsbomb_xg\"])\n",
    "    loss_info.append({\n",
    "        \"competition\": competition_name, \n",
    "        \"mae\": mae,\n",
    "        \"mae_statsbomb\": mae_statsbomb,\n",
    "        \"brier\": brier,\n",
    "        \"brier_statsbomb\": brier_statsbomb\n",
    "    })\n",
    "    coefficient_info.extend(list(zip(\n",
    "        [competition_name] * len(model.coef_[0]), train_df_transformed.columns, model.coef_[0]\n",
    "    )))\n",
    "    model_info[competition_name] = {\"data_prep_pipeline\": data_prep_pipeline, \"model\": model}\n",
    "    \n",
    "with open(\"simple_model.dill\", \"wb\") as f:\n",
    "    dill.dump(model_info, f)\n",
    "loss_info = pd.DataFrame(loss_info)\n",
    "coefficient_info = pd.DataFrame(coefficient_info, columns=[\"competition\", \"coef_name\", \"coef_value\"])"
   ]
  },
  {
   "cell_type": "code",
   "execution_count": null,
   "id": "626643bc",
   "metadata": {},
   "outputs": [],
   "source": [
    "loss_info"
   ]
  },
  {
   "cell_type": "code",
   "execution_count": null,
   "id": "1a178bac",
   "metadata": {},
   "outputs": [],
   "source": [
    "coefficient_info.head()"
   ]
  },
  {
   "cell_type": "code",
   "execution_count": null,
   "id": "b9537e93",
   "metadata": {},
   "outputs": [],
   "source": []
  }
 ],
 "metadata": {
  "kernelspec": {
   "display_name": "Python 3 (ipykernel)",
   "language": "python",
   "name": "python3"
  },
  "language_info": {
   "codemirror_mode": {
    "name": "ipython",
    "version": 3
   },
   "file_extension": ".py",
   "mimetype": "text/x-python",
   "name": "python",
   "nbconvert_exporter": "python",
   "pygments_lexer": "ipython3",
   "version": "3.10.12"
  }
 },
 "nbformat": 4,
 "nbformat_minor": 5
}
