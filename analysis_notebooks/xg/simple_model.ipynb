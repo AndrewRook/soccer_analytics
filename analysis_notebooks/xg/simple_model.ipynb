{
 "cells": [
  {
   "cell_type": "code",
   "execution_count": 96,
   "id": "533d2128",
   "metadata": {},
   "outputs": [],
   "source": [
    "import pandas as pd\n",
    "from kloppy.domain.services.transformers.attribute import BodyPartTransformer, AngleToGoalTransformer, DistanceToGoalTransformer\n",
    "\n",
    "from sklearn.base import BaseEstimator, TransformerMixin\n",
    "from sklearn.linear_model import LogisticRegression\n",
    "from sklearn.model_selection import train_test_split\n",
    "from sklearn.pipeline import Pipeline\n",
    "from sklearn.preprocessing import StandardScaler\n",
    "from feature_engine.encoding import OneHotEncoder\n",
    "from feature_engine.selection import DropConstantFeatures, DropFeatures\n",
    "from feature_engine.wrappers import SklearnTransformerWrapper\n",
    "from types import MethodType\n",
    "\n",
    "from soccer_analytics.data.statsbomb import get_metadata, get_events\n",
    "from soccer_analytics.data_split import split_by_time"
   ]
  },
  {
   "cell_type": "code",
   "execution_count": 2,
   "id": "1da8ba11",
   "metadata": {},
   "outputs": [],
   "source": [
    "competitions = get_metadata()"
   ]
  },
  {
   "cell_type": "code",
   "execution_count": 3,
   "id": "b78d8466",
   "metadata": {},
   "outputs": [],
   "source": [
    "full_competitions = {\n",
    "   \"1. Bundesliga\": [\"2015/2016\"],\n",
    "#     \"FA Women's Super League\": [\"2018/2019\", \"2019/2020\", \"2020/2021\"],\n",
    "#     \"FIFA World Cup\": [\"2018\", \"2022\"],\n",
    "#     \"Indian Super league\": [\"2021/2022\"],\n",
    "#     \"La Liga\": [\"2015/2016\"],\n",
    "#     \"Ligue 1\": [\"2015/2016\"],\n",
    "#     \"Premier League\": [\"2015/2016\"],\n",
    "#     \"Serie A\": [\"2015/2016\"],\n",
    "#     \"UEFA Euro\": [\"2020\"],\n",
    "#     \"UEFA Women's Euro\": [\"2022\"],\n",
    "#     \"Women's World Cup\": [\"2019\", \"2023\"]\n",
    "}"
   ]
  },
  {
   "cell_type": "code",
   "execution_count": 4,
   "id": "d7f7eacc",
   "metadata": {},
   "outputs": [
    {
     "name": "stdout",
     "output_type": "stream",
     "text": [
      "1. Bundesliga 1\n",
      "    2015/2016: 306\n",
      "Champions League 18\n",
      "Copa del Rey 3\n",
      "FA Women's Super League 3\n",
      "FIFA U20 World Cup 1\n",
      "FIFA World Cup 8\n",
      "Indian Super league 1\n",
      "La Liga 18\n",
      "Liga Profesional 2\n",
      "Ligue 1 1\n",
      "North American League 1\n",
      "NWSL 1\n",
      "Premier League 2\n",
      "Serie A 2\n",
      "UEFA Euro 1\n",
      "UEFA Europa League 1\n",
      "UEFA Women's Euro 1\n",
      "Women's World Cup 2\n"
     ]
    }
   ],
   "source": [
    "matches_by_competition = {}\n",
    "for competition in competitions:\n",
    "    print(competition.name, len(competition.seasons))\n",
    "    if competition.name in full_competitions:\n",
    "        matches_by_competition[competition.name] = []\n",
    "        for season in competition.seasons:\n",
    "            print(f\"    {season.name}: {len(season.matches)}\")\n",
    "            if season.name in full_competitions[competition.name]:\n",
    "                matches_by_competition[competition.name].extend(get_events(\n",
    "                    season, event_types=[\"shot\"]\n",
    "                ))"
   ]
  },
  {
   "cell_type": "code",
   "execution_count": 108,
   "id": "8f9ca04c",
   "metadata": {},
   "outputs": [],
   "source": [
    "class MatchListToDf(BaseEstimator, TransformerMixin):\n",
    "    def __init__(self):\n",
    "        pass\n",
    "    \n",
    "    def fit(self, X, y=None):\n",
    "        return self\n",
    "\n",
    "    def transform(self, match_list, y=None):\n",
    "        df_list = []\n",
    "        for match in match_list:\n",
    "            df_list.append(match.to_df(\n",
    "                \"is_penalty\",\n",
    "                \"is_first_time\",\n",
    "                \"statsbomb_xg\",\n",
    "                \"technique\",\n",
    "                \"coordinates*\",\n",
    "                AngleToGoalTransformer(),\n",
    "                DistanceToGoalTransformer(),\n",
    "                BodyPartTransformer(),\n",
    "                position=lambda event: \"Unknown\" if event.player.position is None else event.player.position.name,\n",
    "                is_goal=lambda event: int(event.result.is_success)\n",
    "            ))\n",
    "        return pd.concat(df_list)\n",
    "\n",
    "class AngleNormalizer(BaseEstimator, TransformerMixin):\n",
    "    def __init__(self, variable: str, new_variable: str):\n",
    "        self.variable = variable\n",
    "        self.new_variable = new_variable\n",
    "        \n",
    "    def fit(self, X, y=None):\n",
    "        return self\n",
    "        \n",
    "    def transform(self, X, y=None):\n",
    "        normalized_angle = (X[self.variable].abs() - 90).abs()\n",
    "        X = X.drop(self.variable, axis=1)\n",
    "        X[self.new_variable] = normalized_angle\n",
    "        return X\n",
    "\n",
    "    \n",
    "class FitModel(BaseEstimator, TransformerMixin):\n",
    "    def __init__(self, model_instance, target_variable: str):\n",
    "        self.model_instance = model_instance\n",
    "        self.target_variable = target_variable\n",
    "  \n",
    "    def __getattr__(self, name:str):\n",
    "        obj = getattr(self.model_instance, name)\n",
    "        def extraction_wrapper(*args, **kwargs):\n",
    "            if len(args) == 2 and isinstance(args[0], pd.DataFrame):\n",
    "                y = args[0][self.target_variable]\n",
    "                X = args[0].drop(self.target_variable, axis=1)\n",
    "                self.columns_ = X.columns\n",
    "                return obj(X, y, **kwargs)\n",
    "            else:\n",
    "                return obj(*args, **kwargs)\n",
    "        if isinstance(obj, types.MethodType):\n",
    "            return extraction_wrapper\n",
    "        return obj\n",
    "        \n",
    "        \n",
    "\n",
    "all_matches = matches_by_competition[\"1. Bundesliga\"]\n",
    "train_test_matches, validation_matches = split_by_time(all_matches)\n",
    "train_matches, test_matches = train_test_split(\n",
    "    train_test_matches, test_size=0.2, random_state=235\n",
    ")\n",
    "pipeline = Pipeline((\n",
    "    (\"convert_to_df\", MatchListToDf()),\n",
    "    (\"encode_categories\", OneHotEncoder(variables=[\"technique\", \"position\"], drop_last=True)),\n",
    "    (\"drop_unused_columns\", DropFeatures([\"statsbomb_xg\", \"coordinates_x\", \"coordinates_y\"])),\n",
    "    (\"drop_constant_columns\", DropConstantFeatures()),\n",
    "    (\"create_angle_from_goal\", AngleNormalizer(variable=\"angle_to_goal\", new_variable=\"angle_from_goal\")),\n",
    "    #(\"scale\", SklearnTransformerWrapper(transformer=StandardScaler(), variables=[\"angle_from_goal\", \"distance_to_goal\"])),\n",
    "    #(\"passthrough\", \"passthrough\"),\n",
    "    (\"fit_model\", FitModel(LogisticRegression(penalty=None, max_iter=10000, random_state=315), \"is_goal\")),\n",
    "))"
   ]
  },
  {
   "cell_type": "code",
   "execution_count": 109,
   "id": "d454764d",
   "metadata": {},
   "outputs": [],
   "source": [
    "#pipeline.fit_transform(train_matches).head()"
   ]
  },
  {
   "cell_type": "code",
   "execution_count": 116,
   "id": "5d19584e",
   "metadata": {},
   "outputs": [
    {
     "data": {
      "text/plain": [
       "(is_penalty                            1.767217\n",
       " is_first_time                        -0.271448\n",
       " distance_to_goal                     -0.204031\n",
       " is_body_part_right_foot               1.846472\n",
       " is_body_part_left_foot                1.618581\n",
       " is_body_part_head                    -0.333182\n",
       " is_body_part_other                   -0.460701\n",
       " technique_Normal                     -0.823287\n",
       " technique_Half Volley                -1.525522\n",
       " technique_Volley                     -1.681089\n",
       " technique_Overhead Kick              -2.636350\n",
       " technique_Diving Header               0.752705\n",
       " technique_Backheel                   -3.234471\n",
       " position_Center Attacking Midfield   -1.329818\n",
       " position_Right Wing                  -1.152341\n",
       " position_Right Defensive Midfield    -1.360647\n",
       " position_Left Center Back            -2.019789\n",
       " position_Left Back                   -1.201519\n",
       " position_Left Wing                   -1.175909\n",
       " position_Center Forward              -1.477697\n",
       " position_Right Center Back           -1.608198\n",
       " position_Right Back                  -1.444777\n",
       " position_Left Defensive Midfield     -2.152729\n",
       " position_Left Center Forward         -1.098481\n",
       " position_Left Midfield               -1.481365\n",
       " position_Right Center Midfield       -2.047560\n",
       " position_Right Midfield              -1.484810\n",
       " position_Center Defensive Midfield   -1.963092\n",
       " position_Unknown                     -1.246866\n",
       " position_Left Center Midfield        -2.260746\n",
       " position_Right Center Forward        -1.449690\n",
       " position_Center Back                 -1.552586\n",
       " position_Left Wing Back              -8.390765\n",
       " position_Right Wing Back             -0.943343\n",
       " position_Right Attacking Midfield    -0.368459\n",
       " angle_from_goal                      -0.017924\n",
       " dtype: float64,\n",
       " array([2.67117129]))"
      ]
     },
     "execution_count": 116,
     "metadata": {},
     "output_type": "execute_result"
    }
   ],
   "source": [
    "test = pipeline.fit(train_matches)\n",
    "pd.Series(test.steps[-1][1].coef_[0], index=test.steps[-1][1].columns_), test.steps[-1][1].intercept_"
   ]
  },
  {
   "cell_type": "code",
   "execution_count": null,
   "id": "7020ebf9",
   "metadata": {},
   "outputs": [],
   "source": []
  }
 ],
 "metadata": {
  "kernelspec": {
   "display_name": "Python 3 (ipykernel)",
   "language": "python",
   "name": "python3"
  },
  "language_info": {
   "codemirror_mode": {
    "name": "ipython",
    "version": 3
   },
   "file_extension": ".py",
   "mimetype": "text/x-python",
   "name": "python",
   "nbconvert_exporter": "python",
   "pygments_lexer": "ipython3",
   "version": "3.10.12"
  }
 },
 "nbformat": 4,
 "nbformat_minor": 5
}
