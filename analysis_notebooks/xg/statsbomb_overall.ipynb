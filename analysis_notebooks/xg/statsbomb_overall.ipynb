{
 "cells": [
  {
   "cell_type": "code",
   "execution_count": 1,
   "id": "33de749f-9584-4943-bade-afab1802e5ed",
   "metadata": {},
   "outputs": [],
   "source": [
    "from sklearn.model_selection import train_test_split\n",
    "from sklearn.metrics import brier_score_loss, roc_auc_score\n",
    "\n",
    "from soccer_analytics.data.statsbomb import get_metadata, get_events\n",
    "from soccer_analytics.data_split import split_by_time"
   ]
  },
  {
   "cell_type": "code",
   "execution_count": 2,
   "id": "69c142b7-84e0-44d1-a87a-203e425de41f",
   "metadata": {},
   "outputs": [],
   "source": [
    "competitions = get_metadata()"
   ]
  },
  {
   "cell_type": "code",
   "execution_count": 3,
   "id": "c0a4d485-bc3d-48d8-9d78-3860a0d53006",
   "metadata": {},
   "outputs": [],
   "source": [
    "full_competitions = {\n",
    "    \"1. Bundesliga\": [\"2015/2016\"],\n",
    "    \"FA Women's Super League\": [\"2018/2019\", \"2019/2020\", \"2020/2021\"],\n",
    "    \"FIFA World Cup\": [\"2018\", \"2022\"],\n",
    "    \"Indian Super league\": [\"2021/2022\"],\n",
    "    \"La Liga\": [\"2015/2016\"],\n",
    "    \"Ligue 1\": [\"2015/2016\"],\n",
    "    \"Premier League\": [\"2015/2016\"],\n",
    "    \"Serie A\": [\"2015/2016\"],\n",
    "    \"UEFA Euro\": [\"2020\"],\n",
    "    \"UEFA Women's Euro\": [\"2022\"],\n",
    "    \"Women's World Cup\": [\"2019\", \"2023\"]\n",
    "}"
   ]
  },
  {
   "cell_type": "code",
   "execution_count": 4,
   "id": "f4909c9b-a16d-4876-b609-eb2367dc32b0",
   "metadata": {
    "scrolled": true
   },
   "outputs": [
    {
     "name": "stdout",
     "output_type": "stream",
     "text": [
      "1. Bundesliga 1\n",
      "    2015/2016: 306\n",
      "Champions League 18\n",
      "Copa del Rey 3\n",
      "FA Women's Super League 3\n",
      "    2020/2021: 131\n",
      "    2019/2020: 87\n",
      "    2018/2019: 108\n",
      "FIFA U20 World Cup 1\n",
      "FIFA World Cup 8\n",
      "    2022: 64\n",
      "    2018: 64\n",
      "    1990: 1\n",
      "    1986: 3\n",
      "    1974: 6\n",
      "    1970: 6\n",
      "    1962: 1\n",
      "    1958: 2\n",
      "Indian Super league 1\n",
      "    2021/2022: 115\n",
      "La Liga 18\n",
      "    2020/2021: 35\n",
      "    2019/2020: 33\n",
      "    2018/2019: 34\n",
      "    2017/2018: 36\n",
      "    2016/2017: 34\n",
      "    2015/2016: 380\n",
      "    2014/2015: 38\n",
      "    2013/2014: 31\n",
      "    2012/2013: 32\n",
      "    2011/2012: 37\n",
      "    2010/2011: 33\n",
      "    2009/2010: 35\n",
      "    2008/2009: 31\n",
      "    2007/2008: 28\n",
      "    2006/2007: 26\n",
      "    2005/2006: 17\n",
      "    2004/2005: 7\n",
      "    1973/1974: 1\n",
      "Liga Profesional 2\n",
      "Ligue 1 3\n",
      "    2022/2023: 32\n",
      "    2021/2022: 26\n",
      "    2015/2016: 377\n",
      "Major League Soccer 1\n",
      "North American League 1\n",
      "NWSL 1\n",
      "Premier League 2\n",
      "    2015/2016: 380\n",
      "    2003/2004: 38\n",
      "Serie A 2\n",
      "    2015/2016: 380\n",
      "    1986/1987: 1\n",
      "UEFA Euro 1\n",
      "    2020: 51\n",
      "UEFA Europa League 1\n",
      "UEFA Women's Euro 1\n",
      "    2022: 31\n",
      "Women's World Cup 2\n",
      "    2023: 64\n",
      "    2019: 52\n"
     ]
    }
   ],
   "source": [
    "matches_by_competition = {}\n",
    "for competition in competitions:\n",
    "    print(competition.name, len(competition.seasons))\n",
    "    if competition.name in full_competitions:\n",
    "        matches_by_competition[competition.name] = []\n",
    "        for season in competition.seasons:\n",
    "            print(f\"    {season.name}: {len(season.matches)}\")\n",
    "            if season.name in full_competitions[competition.name]:\n",
    "                matches_by_competition[competition.name].extend(get_events(\n",
    "                    season, event_types=[\"shot\"]\n",
    "                ))"
   ]
  },
  {
   "cell_type": "code",
   "execution_count": 5,
   "id": "03056fe0-5347-425e-848c-f2724c0ffdda",
   "metadata": {},
   "outputs": [
    {
     "data": {
      "text/plain": [
       "(1650, 417, 523)"
      ]
     },
     "execution_count": 5,
     "metadata": {},
     "output_type": "execute_result"
    }
   ],
   "source": [
    "train_matches = []\n",
    "test_matches = []\n",
    "validation_matches = []\n",
    "for competition_name, matches in matches_by_competition.items():\n",
    "    if len(matches) > 0:\n",
    "        # out of time validation: last 20% of matches by time in the competition\n",
    "        competition_train_test_matches, competition_validation_matches = split_by_time(matches, test_frac=0.2)\n",
    "        # In time test: random 20% of matches from the first 80% of time in the competition:\n",
    "        competition_train_matches, competition_test_matches = train_test_split(\n",
    "            competition_train_test_matches, test_size=0.2, random_state=235\n",
    "        )\n",
    "        train_matches.extend(competition_train_matches)\n",
    "        test_matches.extend(competition_test_matches)\n",
    "        validation_matches.extend(competition_validation_matches)\n",
    "len(train_matches), len(test_matches), len(validation_matches)"
   ]
  },
  {
   "cell_type": "code",
   "execution_count": 6,
   "id": "bbee41f8-3a62-4b49-89b4-cdf9a118ef1b",
   "metadata": {},
   "outputs": [
    {
     "data": {
      "text/plain": [
       "(10330, 10330)"
      ]
     },
     "execution_count": 6,
     "metadata": {},
     "output_type": "execute_result"
    }
   ],
   "source": [
    "are_goals = []\n",
    "statsbomb_xg = []\n",
    "for match in test_matches:\n",
    "    for shot in match.events:\n",
    "        if shot.freeze_frame and not shot.is_penalty:\n",
    "            are_goals.append(int(shot.result.is_success))\n",
    "            statsbomb_xg.append(shot.statsbomb_xg)\n",
    "len(are_goals), len(statsbomb_xg)"
   ]
  },
  {
   "cell_type": "code",
   "execution_count": 7,
   "id": "535482f2-d568-4aa0-955d-f4e4f5fd35ec",
   "metadata": {},
   "outputs": [
    {
     "data": {
      "text/plain": [
       "(0.07336164226558287, 0.8095481597250973)"
      ]
     },
     "execution_count": 7,
     "metadata": {},
     "output_type": "execute_result"
    }
   ],
   "source": [
    "brier_score_loss(are_goals, statsbomb_xg), roc_auc_score(are_goals, statsbomb_xg)"
   ]
  },
  {
   "cell_type": "code",
   "execution_count": null,
   "id": "f7100fb9-dd81-4f0b-8b14-95ebf3bc3c4b",
   "metadata": {},
   "outputs": [],
   "source": []
  }
 ],
 "metadata": {
  "kernelspec": {
   "display_name": "Python 3 (ipykernel)",
   "language": "python",
   "name": "python3"
  },
  "language_info": {
   "codemirror_mode": {
    "name": "ipython",
    "version": 3
   },
   "file_extension": ".py",
   "mimetype": "text/x-python",
   "name": "python",
   "nbconvert_exporter": "python",
   "pygments_lexer": "ipython3",
   "version": "3.11.7"
  }
 },
 "nbformat": 4,
 "nbformat_minor": 5
}
